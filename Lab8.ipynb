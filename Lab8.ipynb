{
 "cells": [
  {
   "cell_type": "markdown",
   "metadata": {},
   "source": [
    "# Lab 8\n",
    "\n",
    "## 19th March "
   ]
  },
  {
   "cell_type": "markdown",
   "metadata": {},
   "source": [
    "<hr>"
   ]
  },
  {
   "cell_type": "markdown",
   "metadata": {},
   "source": [
    "# Libraries"
   ]
  },
  {
   "cell_type": "code",
   "execution_count": null,
   "metadata": {},
   "outputs": [],
   "source": [
    "library()"
   ]
  },
  {
   "cell_type": "markdown",
   "metadata": {},
   "source": [
    "Ridge regression"
   ]
  },
  {
   "cell_type": "code",
   "execution_count": 72,
   "metadata": {},
   "outputs": [],
   "source": [
    "library(glmnet)"
   ]
  },
  {
   "cell_type": "markdown",
   "metadata": {},
   "source": [
    "Correlation plot"
   ]
  },
  {
   "cell_type": "code",
   "execution_count": 56,
   "metadata": {},
   "outputs": [],
   "source": [
    "library(psych)"
   ]
  },
  {
   "cell_type": "markdown",
   "metadata": {},
   "source": [
    "Linear regression assumption checks"
   ]
  },
  {
   "cell_type": "code",
   "execution_count": 38,
   "metadata": {},
   "outputs": [],
   "source": [
    "library(gvlma)"
   ]
  },
  {
   "cell_type": "markdown",
   "metadata": {},
   "source": [
    "plots and mutation"
   ]
  },
  {
   "cell_type": "code",
   "execution_count": 5,
   "metadata": {},
   "outputs": [],
   "source": [
    "library(dplyr)"
   ]
  },
  {
   "cell_type": "markdown",
   "metadata": {},
   "source": [
    "plots"
   ]
  },
  {
   "cell_type": "code",
   "execution_count": 18,
   "metadata": {},
   "outputs": [],
   "source": [
    "library(ggplot2)"
   ]
  },
  {
   "cell_type": "markdown",
   "metadata": {},
   "source": [
    "# Data"
   ]
  },
  {
   "cell_type": "markdown",
   "metadata": {},
   "source": [
    "Loading data"
   ]
  },
  {
   "cell_type": "code",
   "execution_count": 13,
   "metadata": {},
   "outputs": [],
   "source": [
    "df <- read.csv('tata_nse_stocks.csv')"
   ]
  },
  {
   "cell_type": "markdown",
   "metadata": {},
   "source": [
    "head"
   ]
  },
  {
   "cell_type": "code",
   "execution_count": 14,
   "metadata": {},
   "outputs": [
    {
     "data": {
      "text/html": [
       "<table>\n",
       "<thead><tr><th scope=col>Date</th><th scope=col>Open</th><th scope=col>High</th><th scope=col>Low</th><th scope=col>Last</th><th scope=col>Close</th><th scope=col>Total.Trade.Quantity</th><th scope=col>Turnover..Lacs.</th></tr></thead>\n",
       "<tbody>\n",
       "\t<tr><td>2018-10-08</td><td>208.00    </td><td>222.25    </td><td>206.85    </td><td>216.00    </td><td>215.15    </td><td>4642146   </td><td>10062.83  </td></tr>\n",
       "\t<tr><td>2018-10-05</td><td>217.00    </td><td>218.60    </td><td>205.90    </td><td>210.25    </td><td>209.20    </td><td>3519515   </td><td> 7407.06  </td></tr>\n",
       "\t<tr><td>2018-10-04</td><td>223.50    </td><td>227.80    </td><td>216.15    </td><td>217.25    </td><td>218.20    </td><td>1728786   </td><td> 3815.79  </td></tr>\n",
       "\t<tr><td>2018-10-03</td><td>230.00    </td><td>237.50    </td><td>225.75    </td><td>226.45    </td><td>227.60    </td><td>1708590   </td><td> 3960.27  </td></tr>\n",
       "\t<tr><td>2018-10-01</td><td>234.55    </td><td>234.60    </td><td>221.05    </td><td>230.30    </td><td>230.90    </td><td>1534749   </td><td> 3486.05  </td></tr>\n",
       "\t<tr><td>2018-09-28</td><td>234.05    </td><td>235.95    </td><td>230.20    </td><td>233.50    </td><td>233.75    </td><td>3069914   </td><td> 7162.35  </td></tr>\n",
       "</tbody>\n",
       "</table>\n"
      ],
      "text/latex": [
       "\\begin{tabular}{r|llllllll}\n",
       " Date & Open & High & Low & Last & Close & Total.Trade.Quantity & Turnover..Lacs.\\\\\n",
       "\\hline\n",
       "\t 2018-10-08 & 208.00     & 222.25     & 206.85     & 216.00     & 215.15     & 4642146    & 10062.83  \\\\\n",
       "\t 2018-10-05 & 217.00     & 218.60     & 205.90     & 210.25     & 209.20     & 3519515    &  7407.06  \\\\\n",
       "\t 2018-10-04 & 223.50     & 227.80     & 216.15     & 217.25     & 218.20     & 1728786    &  3815.79  \\\\\n",
       "\t 2018-10-03 & 230.00     & 237.50     & 225.75     & 226.45     & 227.60     & 1708590    &  3960.27  \\\\\n",
       "\t 2018-10-01 & 234.55     & 234.60     & 221.05     & 230.30     & 230.90     & 1534749    &  3486.05  \\\\\n",
       "\t 2018-09-28 & 234.05     & 235.95     & 230.20     & 233.50     & 233.75     & 3069914    &  7162.35  \\\\\n",
       "\\end{tabular}\n"
      ],
      "text/markdown": [
       "\n",
       "| Date | Open | High | Low | Last | Close | Total.Trade.Quantity | Turnover..Lacs. |\n",
       "|---|---|---|---|---|---|---|---|\n",
       "| 2018-10-08 | 208.00     | 222.25     | 206.85     | 216.00     | 215.15     | 4642146    | 10062.83   |\n",
       "| 2018-10-05 | 217.00     | 218.60     | 205.90     | 210.25     | 209.20     | 3519515    |  7407.06   |\n",
       "| 2018-10-04 | 223.50     | 227.80     | 216.15     | 217.25     | 218.20     | 1728786    |  3815.79   |\n",
       "| 2018-10-03 | 230.00     | 237.50     | 225.75     | 226.45     | 227.60     | 1708590    |  3960.27   |\n",
       "| 2018-10-01 | 234.55     | 234.60     | 221.05     | 230.30     | 230.90     | 1534749    |  3486.05   |\n",
       "| 2018-09-28 | 234.05     | 235.95     | 230.20     | 233.50     | 233.75     | 3069914    |  7162.35   |\n",
       "\n"
      ],
      "text/plain": [
       "  Date       Open   High   Low    Last   Close  Total.Trade.Quantity\n",
       "1 2018-10-08 208.00 222.25 206.85 216.00 215.15 4642146             \n",
       "2 2018-10-05 217.00 218.60 205.90 210.25 209.20 3519515             \n",
       "3 2018-10-04 223.50 227.80 216.15 217.25 218.20 1728786             \n",
       "4 2018-10-03 230.00 237.50 225.75 226.45 227.60 1708590             \n",
       "5 2018-10-01 234.55 234.60 221.05 230.30 230.90 1534749             \n",
       "6 2018-09-28 234.05 235.95 230.20 233.50 233.75 3069914             \n",
       "  Turnover..Lacs.\n",
       "1 10062.83       \n",
       "2  7407.06       \n",
       "3  3815.79       \n",
       "4  3960.27       \n",
       "5  3486.05       \n",
       "6  7162.35       "
      ]
     },
     "metadata": {},
     "output_type": "display_data"
    }
   ],
   "source": [
    "head(df)"
   ]
  },
  {
   "cell_type": "markdown",
   "metadata": {},
   "source": [
    "changing the trade quantity into lacs"
   ]
  },
  {
   "cell_type": "code",
   "execution_count": 15,
   "metadata": {},
   "outputs": [],
   "source": [
    "df <- df %>% \n",
    "   mutate(Total.Trade.Quantity = Total.Trade.Quantity/100000)"
   ]
  },
  {
   "cell_type": "code",
   "execution_count": 16,
   "metadata": {},
   "outputs": [
    {
     "data": {
      "text/html": [
       "<table>\n",
       "<thead><tr><th scope=col>Date</th><th scope=col>Open</th><th scope=col>High</th><th scope=col>Low</th><th scope=col>Last</th><th scope=col>Close</th><th scope=col>Total.Trade.Quantity</th><th scope=col>Turnover..Lacs.</th></tr></thead>\n",
       "<tbody>\n",
       "\t<tr><td>2018-10-08</td><td>208.00    </td><td>222.25    </td><td>206.85    </td><td>216.00    </td><td>215.15    </td><td>46.42146  </td><td>10062.83  </td></tr>\n",
       "\t<tr><td>2018-10-05</td><td>217.00    </td><td>218.60    </td><td>205.90    </td><td>210.25    </td><td>209.20    </td><td>35.19515  </td><td> 7407.06  </td></tr>\n",
       "\t<tr><td>2018-10-04</td><td>223.50    </td><td>227.80    </td><td>216.15    </td><td>217.25    </td><td>218.20    </td><td>17.28786  </td><td> 3815.79  </td></tr>\n",
       "\t<tr><td>2018-10-03</td><td>230.00    </td><td>237.50    </td><td>225.75    </td><td>226.45    </td><td>227.60    </td><td>17.08590  </td><td> 3960.27  </td></tr>\n",
       "\t<tr><td>2018-10-01</td><td>234.55    </td><td>234.60    </td><td>221.05    </td><td>230.30    </td><td>230.90    </td><td>15.34749  </td><td> 3486.05  </td></tr>\n",
       "\t<tr><td>2018-09-28</td><td>234.05    </td><td>235.95    </td><td>230.20    </td><td>233.50    </td><td>233.75    </td><td>30.69914  </td><td> 7162.35  </td></tr>\n",
       "</tbody>\n",
       "</table>\n"
      ],
      "text/latex": [
       "\\begin{tabular}{r|llllllll}\n",
       " Date & Open & High & Low & Last & Close & Total.Trade.Quantity & Turnover..Lacs.\\\\\n",
       "\\hline\n",
       "\t 2018-10-08 & 208.00     & 222.25     & 206.85     & 216.00     & 215.15     & 46.42146   & 10062.83  \\\\\n",
       "\t 2018-10-05 & 217.00     & 218.60     & 205.90     & 210.25     & 209.20     & 35.19515   &  7407.06  \\\\\n",
       "\t 2018-10-04 & 223.50     & 227.80     & 216.15     & 217.25     & 218.20     & 17.28786   &  3815.79  \\\\\n",
       "\t 2018-10-03 & 230.00     & 237.50     & 225.75     & 226.45     & 227.60     & 17.08590   &  3960.27  \\\\\n",
       "\t 2018-10-01 & 234.55     & 234.60     & 221.05     & 230.30     & 230.90     & 15.34749   &  3486.05  \\\\\n",
       "\t 2018-09-28 & 234.05     & 235.95     & 230.20     & 233.50     & 233.75     & 30.69914   &  7162.35  \\\\\n",
       "\\end{tabular}\n"
      ],
      "text/markdown": [
       "\n",
       "| Date | Open | High | Low | Last | Close | Total.Trade.Quantity | Turnover..Lacs. |\n",
       "|---|---|---|---|---|---|---|---|\n",
       "| 2018-10-08 | 208.00     | 222.25     | 206.85     | 216.00     | 215.15     | 46.42146   | 10062.83   |\n",
       "| 2018-10-05 | 217.00     | 218.60     | 205.90     | 210.25     | 209.20     | 35.19515   |  7407.06   |\n",
       "| 2018-10-04 | 223.50     | 227.80     | 216.15     | 217.25     | 218.20     | 17.28786   |  3815.79   |\n",
       "| 2018-10-03 | 230.00     | 237.50     | 225.75     | 226.45     | 227.60     | 17.08590   |  3960.27   |\n",
       "| 2018-10-01 | 234.55     | 234.60     | 221.05     | 230.30     | 230.90     | 15.34749   |  3486.05   |\n",
       "| 2018-09-28 | 234.05     | 235.95     | 230.20     | 233.50     | 233.75     | 30.69914   |  7162.35   |\n",
       "\n"
      ],
      "text/plain": [
       "  Date       Open   High   Low    Last   Close  Total.Trade.Quantity\n",
       "1 2018-10-08 208.00 222.25 206.85 216.00 215.15 46.42146            \n",
       "2 2018-10-05 217.00 218.60 205.90 210.25 209.20 35.19515            \n",
       "3 2018-10-04 223.50 227.80 216.15 217.25 218.20 17.28786            \n",
       "4 2018-10-03 230.00 237.50 225.75 226.45 227.60 17.08590            \n",
       "5 2018-10-01 234.55 234.60 221.05 230.30 230.90 15.34749            \n",
       "6 2018-09-28 234.05 235.95 230.20 233.50 233.75 30.69914            \n",
       "  Turnover..Lacs.\n",
       "1 10062.83       \n",
       "2  7407.06       \n",
       "3  3815.79       \n",
       "4  3960.27       \n",
       "5  3486.05       \n",
       "6  7162.35       "
      ]
     },
     "metadata": {},
     "output_type": "display_data"
    }
   ],
   "source": [
    "head(df)"
   ]
  },
  {
   "cell_type": "markdown",
   "metadata": {},
   "source": [
    "# Plots"
   ]
  },
  {
   "cell_type": "markdown",
   "metadata": {},
   "source": [
    "setting theme"
   ]
  },
  {
   "cell_type": "code",
   "execution_count": 21,
   "metadata": {},
   "outputs": [],
   "source": [
    "theme_set(theme_light())"
   ]
  },
  {
   "cell_type": "markdown",
   "metadata": {},
   "source": [
    "Plotting the data"
   ]
  },
  {
   "cell_type": "code",
   "execution_count": 28,
   "metadata": {},
   "outputs": [
    {
     "data": {
      "image/png": "[encoded data removed]",
      "text/plain": [
       "plot without title"
      ]
     },
     "metadata": {},
     "output_type": "display_data"
    }
   ],
   "source": [
    "ggplot(df, aes(x=Date,group=1)) +\n",
    "geom_line(aes(y=Close,group=1),color = \"#00AFBB\")"
   ]
  },
  {
   "cell_type": "code",
   "execution_count": 30,
   "metadata": {},
   "outputs": [],
   "source": [
    "df = subset(df, select = -c(Date) )"
   ]
  },
  {
   "cell_type": "code",
   "execution_count": 31,
   "metadata": {},
   "outputs": [
    {
     "data": {
      "text/html": [
       "<table>\n",
       "<thead><tr><th scope=col>Open</th><th scope=col>High</th><th scope=col>Low</th><th scope=col>Last</th><th scope=col>Close</th><th scope=col>Total.Trade.Quantity</th><th scope=col>Turnover..Lacs.</th></tr></thead>\n",
       "<tbody>\n",
       "\t<tr><td>208.00  </td><td>222.25  </td><td>206.85  </td><td>216.00  </td><td>215.15  </td><td>46.42146</td><td>10062.83</td></tr>\n",
       "\t<tr><td>217.00  </td><td>218.60  </td><td>205.90  </td><td>210.25  </td><td>209.20  </td><td>35.19515</td><td> 7407.06</td></tr>\n",
       "\t<tr><td>223.50  </td><td>227.80  </td><td>216.15  </td><td>217.25  </td><td>218.20  </td><td>17.28786</td><td> 3815.79</td></tr>\n",
       "\t<tr><td>230.00  </td><td>237.50  </td><td>225.75  </td><td>226.45  </td><td>227.60  </td><td>17.08590</td><td> 3960.27</td></tr>\n",
       "\t<tr><td>234.55  </td><td>234.60  </td><td>221.05  </td><td>230.30  </td><td>230.90  </td><td>15.34749</td><td> 3486.05</td></tr>\n",
       "\t<tr><td>234.05  </td><td>235.95  </td><td>230.20  </td><td>233.50  </td><td>233.75  </td><td>30.69914</td><td> 7162.35</td></tr>\n",
       "</tbody>\n",
       "</table>\n"
      ],
      "text/latex": [
       "\\begin{tabular}{r|lllllll}\n",
       " Open & High & Low & Last & Close & Total.Trade.Quantity & Turnover..Lacs.\\\\\n",
       "\\hline\n",
       "\t 208.00   & 222.25   & 206.85   & 216.00   & 215.15   & 46.42146 & 10062.83\\\\\n",
       "\t 217.00   & 218.60   & 205.90   & 210.25   & 209.20   & 35.19515 &  7407.06\\\\\n",
       "\t 223.50   & 227.80   & 216.15   & 217.25   & 218.20   & 17.28786 &  3815.79\\\\\n",
       "\t 230.00   & 237.50   & 225.75   & 226.45   & 227.60   & 17.08590 &  3960.27\\\\\n",
       "\t 234.55   & 234.60   & 221.05   & 230.30   & 230.90   & 15.34749 &  3486.05\\\\\n",
       "\t 234.05   & 235.95   & 230.20   & 233.50   & 233.75   & 30.69914 &  7162.35\\\\\n",
       "\\end{tabular}\n"
      ],
      "text/markdown": [
       "\n",
       "| Open | High | Low | Last | Close | Total.Trade.Quantity | Turnover..Lacs. |\n",
       "|---|---|---|---|---|---|---|\n",
       "| 208.00   | 222.25   | 206.85   | 216.00   | 215.15   | 46.42146 | 10062.83 |\n",
       "| 217.00   | 218.60   | 205.90   | 210.25   | 209.20   | 35.19515 |  7407.06 |\n",
       "| 223.50   | 227.80   | 216.15   | 217.25   | 218.20   | 17.28786 |  3815.79 |\n",
       "| 230.00   | 237.50   | 225.75   | 226.45   | 227.60   | 17.08590 |  3960.27 |\n",
       "| 234.55   | 234.60   | 221.05   | 230.30   | 230.90   | 15.34749 |  3486.05 |\n",
       "| 234.05   | 235.95   | 230.20   | 233.50   | 233.75   | 30.69914 |  7162.35 |\n",
       "\n"
      ],
      "text/plain": [
       "  Open   High   Low    Last   Close  Total.Trade.Quantity Turnover..Lacs.\n",
       "1 208.00 222.25 206.85 216.00 215.15 46.42146             10062.83       \n",
       "2 217.00 218.60 205.90 210.25 209.20 35.19515              7407.06       \n",
       "3 223.50 227.80 216.15 217.25 218.20 17.28786              3815.79       \n",
       "4 230.00 237.50 225.75 226.45 227.60 17.08590              3960.27       \n",
       "5 234.55 234.60 221.05 230.30 230.90 15.34749              3486.05       \n",
       "6 234.05 235.95 230.20 233.50 233.75 30.69914              7162.35       "
      ]
     },
     "metadata": {},
     "output_type": "display_data"
    }
   ],
   "source": [
    "head(df)"
   ]
  },
  {
   "cell_type": "markdown",
   "metadata": {},
   "source": [
    "Correlation Plot"
   ]
  },
  {
   "cell_type": "code",
   "execution_count": 57,
   "metadata": {},
   "outputs": [
    {
     "data": {
      "image/png": "[encoded data removed]",
      "text/plain": [
       "Plot with title \"Correlation plot\""
      ]
     },
     "metadata": {},
     "output_type": "display_data"
    }
   ],
   "source": [
    "corPlot(df)"
   ]
  },
  {
   "cell_type": "markdown",
   "metadata": {},
   "source": [
    "Since open,high,low and last are highly correlated, we need to drop them"
   ]
  },
  {
   "cell_type": "code",
   "execution_count": 58,
   "metadata": {},
   "outputs": [],
   "source": [
    "df = subset(df, select = -c(Open,High,Low,Last) )"
   ]
  },
  {
   "cell_type": "markdown",
   "metadata": {},
   "source": [
    "# Modelling"
   ]
  },
  {
   "cell_type": "code",
   "execution_count": null,
   "metadata": {},
   "outputs": [],
   "source": [
    "msk<-sample.split(data$Profit,SplitRatio = 0.7)"
   ]
  },
  {
   "cell_type": "markdown",
   "metadata": {},
   "source": [
    "## Model 1"
   ]
  },
  {
   "cell_type": "code",
   "execution_count": 59,
   "metadata": {},
   "outputs": [],
   "source": [
    "model1 <- lm(Turnover..Lacs. ~ Close+Total.Trade.Quantity,\n",
    "           data = df)"
   ]
  },
  {
   "cell_type": "code",
   "execution_count": 60,
   "metadata": {},
   "outputs": [
    {
     "data": {
      "text/plain": [
       "\n",
       "Call:\n",
       "lm(formula = Turnover..Lacs. ~ Close + Total.Trade.Quantity, \n",
       "    data = df)\n",
       "\n",
       "Residuals:\n",
       "    Min      1Q  Median      3Q     Max \n",
       "-6337.6  -531.4    -1.6   478.2 13918.9 \n",
       "\n",
       "Coefficients:\n",
       "                       Estimate Std. Error t value Pr(>|t|)    \n",
       "(Intercept)          -5188.3397   110.7778  -46.84   <2e-16 ***\n",
       "Close                   29.1839     0.6787   43.00   <2e-16 ***\n",
       "Total.Trade.Quantity   196.1206     1.5364  127.65   <2e-16 ***\n",
       "---\n",
       "Signif. codes:  0 '***' 0.001 '**' 0.01 '*' 0.05 '.' 0.1 ' ' 1\n",
       "\n",
       "Residual standard error: 1136 on 1232 degrees of freedom\n",
       "Multiple R-squared:  0.9549,\tAdjusted R-squared:  0.9549 \n",
       "F-statistic: 1.305e+04 on 2 and 1232 DF,  p-value: < 2.2e-16\n"
      ]
     },
     "metadata": {},
     "output_type": "display_data"
    }
   ],
   "source": [
    "summary(model1)"
   ]
  },
  {
   "cell_type": "markdown",
   "metadata": {},
   "source": [
    "## Looking at assumptions"
   ]
  },
  {
   "cell_type": "code",
   "execution_count": 61,
   "metadata": {},
   "outputs": [],
   "source": [
    "gvl1 <- gvlma(model1)"
   ]
  },
  {
   "cell_type": "code",
   "execution_count": 63,
   "metadata": {},
   "outputs": [
    {
     "data": {
      "text/plain": [
       "\n",
       "Call:\n",
       "lm(formula = Turnover..Lacs. ~ Close + Total.Trade.Quantity, \n",
       "    data = df)\n",
       "\n",
       "Coefficients:\n",
       "         (Intercept)                 Close  Total.Trade.Quantity  \n",
       "            -5188.34                 29.18                196.12  \n",
       "\n",
       "\n",
       "ASSESSMENT OF THE LINEAR MODEL ASSUMPTIONS\n",
       "USING THE GLOBAL TEST ON 4 DEGREES-OF-FREEDOM:\n",
       "Level of Significance =  0.05 \n",
       "\n",
       "Call:\n",
       " gvlma(x = model1) \n",
       "\n",
       "                     Value p-value                   Decision\n",
       "Global Stat        40398.1       0 Assumptions NOT satisfied!\n",
       "Skewness            1311.3       0 Assumptions NOT satisfied!\n",
       "Kurtosis           38634.3       0 Assumptions NOT satisfied!\n",
       "Link Function        207.6       0 Assumptions NOT satisfied!\n",
       "Heteroscedasticity   245.0       0 Assumptions NOT satisfied!"
      ]
     },
     "metadata": {},
     "output_type": "display_data"
    }
   ],
   "source": [
    "gvl1"
   ]
  },
  {
   "cell_type": "markdown",
   "metadata": {},
   "source": [
    "## Plotting"
   ]
  },
  {
   "cell_type": "code",
   "execution_count": 62,
   "metadata": {},
   "outputs": [
    {
     "data": {
      "image/png": "[encoded data removed]",
      "text/plain": [
       "Plot with title \"Plot of the Standardized Residuals versus Time Sequence\""
      ]
     },
     "metadata": {},
     "output_type": "display_data"
    }
   ],
   "source": [
    "plot.gvlma(gvl1)"
   ]
  },
  {
   "cell_type": "markdown",
   "metadata": {},
   "source": [
    "## Model 2"
   ]
  },
  {
   "cell_type": "code",
   "execution_count": 64,
   "metadata": {},
   "outputs": [],
   "source": [
    "model2 <- lm(Turnover..Lacs. ~ Close,\n",
    "           data = df)"
   ]
  },
  {
   "cell_type": "code",
   "execution_count": 68,
   "metadata": {},
   "outputs": [
    {
     "data": {
      "text/plain": [
       "\n",
       "Call:\n",
       "lm(formula = Turnover..Lacs. ~ Close, data = df)\n",
       "\n",
       "Residuals:\n",
       "   Min     1Q Median     3Q    Max \n",
       " -8766  -1607   -796    586  49350 \n",
       "\n",
       "Coefficients:\n",
       "             Estimate Std. Error t value Pr(>|t|)    \n",
       "(Intercept) -5647.769    417.432  -13.53   <2e-16 ***\n",
       "Close          62.175      2.366   26.28   <2e-16 ***\n",
       "---\n",
       "Signif. codes:  0 '***' 0.001 '**' 0.01 '*' 0.05 '.' 0.1 ' ' 1\n",
       "\n",
       "Residual standard error: 4284 on 1233 degrees of freedom\n",
       "Multiple R-squared:  0.359,\tAdjusted R-squared:  0.3585 \n",
       "F-statistic: 690.5 on 1 and 1233 DF,  p-value: < 2.2e-16\n"
      ]
     },
     "metadata": {},
     "output_type": "display_data"
    }
   ],
   "source": [
    "summary(model2)"
   ]
  },
  {
   "cell_type": "markdown",
   "metadata": {},
   "source": [
    "## Assumptions"
   ]
  },
  {
   "cell_type": "code",
   "execution_count": 65,
   "metadata": {},
   "outputs": [],
   "source": [
    "gvl2 <- gvlma(model2)"
   ]
  },
  {
   "cell_type": "code",
   "execution_count": 66,
   "metadata": {},
   "outputs": [
    {
     "data": {
      "image/png": "[encoded data removed]",
      "text/plain": [
       "Plot with title \"Plot of the Standardized Residuals versus Time Sequence\""
      ]
     },
     "metadata": {},
     "output_type": "display_data"
    }
   ],
   "source": [
    "plot.gvlma(gvl2)"
   ]
  },
  {
   "cell_type": "code",
   "execution_count": 67,
   "metadata": {},
   "outputs": [
    {
     "data": {
      "text/plain": [
       "\n",
       "Call:\n",
       "lm(formula = Turnover..Lacs. ~ Close, data = df)\n",
       "\n",
       "Coefficients:\n",
       "(Intercept)        Close  \n",
       "   -5647.77        62.18  \n",
       "\n",
       "\n",
       "ASSESSMENT OF THE LINEAR MODEL ASSUMPTIONS\n",
       "USING THE GLOBAL TEST ON 4 DEGREES-OF-FREEDOM:\n",
       "Level of Significance =  0.05 \n",
       "\n",
       "Call:\n",
       " gvlma(x = model2) \n",
       "\n",
       "                      Value   p-value                   Decision\n",
       "Global Stat        48585.82 0.000e+00 Assumptions NOT satisfied!\n",
       "Skewness            3438.65 0.000e+00 Assumptions NOT satisfied!\n",
       "Kurtosis           44717.14 0.000e+00 Assumptions NOT satisfied!\n",
       "Link Function         18.27 1.914e-05 Assumptions NOT satisfied!\n",
       "Heteroscedasticity   411.76 0.000e+00 Assumptions NOT satisfied!"
      ]
     },
     "metadata": {},
     "output_type": "display_data"
    }
   ],
   "source": [
    "gvl2"
   ]
  },
  {
   "cell_type": "code",
   "execution_count": null,
   "metadata": {},
   "outputs": [],
   "source": [
    "dummies <- dummyVars(Turnover..Lacs. ~., data = df)\n",
    "train_dummies <- predict(dummies , newdata = train)\n",
    "test_dummies <- predict(dummies , newdata = test)\n",
    "print(dim(train_dummies)); print(dim(test_dummies))"
   ]
  }
 ],
 "metadata": {
  "kernelspec": {
   "display_name": "R",
   "language": "R",
   "name": "ir"
  },
  "language_info": {
   "codemirror_mode": "r",
   "file_extension": ".r",
   "mimetype": "text/x-r-source",
   "name": "R",
   "pygments_lexer": "r",
   "version": "3.6.1"
  }
 },
 "nbformat": 4,
 "nbformat_minor": 2
}
