{
 "cells": [
  {
   "cell_type": "markdown",
   "metadata": {},
   "source": [
    "# R CIA\n",
    "\n",
    "## Ipshita Ghosh \n",
    "\n",
    "## 16th March 2021"
   ]
  },
  {
   "cell_type": "markdown",
   "metadata": {},
   "source": [
    "<hr>"
   ]
  },
  {
   "cell_type": "markdown",
   "metadata": {},
   "source": [
    "## Libraries"
   ]
  },
  {
   "cell_type": "code",
   "execution_count": 15,
   "metadata": {},
   "outputs": [],
   "source": [
    "# graph\n",
    "\n",
    "library(ggplot2)"
   ]
  },
  {
   "cell_type": "code",
   "execution_count": 26,
   "metadata": {},
   "outputs": [],
   "source": [
    "# correlation plot\n",
    "\n",
    "library(psych)"
   ]
  },
  {
   "cell_type": "code",
   "execution_count": 34,
   "metadata": {},
   "outputs": [],
   "source": [
    "# train-test split\n",
    "\n",
    "library(caTools)"
   ]
  },
  {
   "cell_type": "markdown",
   "metadata": {},
   "source": [
    "## Data"
   ]
  },
  {
   "cell_type": "markdown",
   "metadata": {},
   "source": [
    "Reading the Data"
   ]
  },
  {
   "cell_type": "code",
   "execution_count": 111,
   "metadata": {},
   "outputs": [],
   "source": [
    "data <- read.table(\"profits.txt\",header=T,sep=',')"
   ]
  },
  {
   "cell_type": "code",
   "execution_count": 112,
   "metadata": {},
   "outputs": [
    {
     "data": {
      "text/html": [
       "<table>\n",
       "<thead><tr><th scope=col>R.D.Spend</th><th scope=col>Administration</th><th scope=col>Marketing.Spend</th><th scope=col>State</th><th scope=col>Profit</th></tr></thead>\n",
       "<tbody>\n",
       "\t<tr><td>165349.2  </td><td>136897.80 </td><td>471784.1  </td><td>New York  </td><td>192261.8  </td></tr>\n",
       "\t<tr><td>162597.7  </td><td>151377.59 </td><td>443898.5  </td><td>California</td><td>191792.1  </td></tr>\n",
       "\t<tr><td>153441.5  </td><td>101145.55 </td><td>407934.5  </td><td>Florida   </td><td>191050.4  </td></tr>\n",
       "\t<tr><td>144372.4  </td><td>118671.85 </td><td>383199.6  </td><td>New York  </td><td>182902.0  </td></tr>\n",
       "\t<tr><td>142107.3  </td><td> 91391.77 </td><td>366168.4  </td><td>Florida   </td><td>166187.9  </td></tr>\n",
       "\t<tr><td>131876.9  </td><td> 99814.71 </td><td>362861.4  </td><td>New York  </td><td>156991.1  </td></tr>\n",
       "</tbody>\n",
       "</table>\n"
      ],
      "text/latex": [
       "\\begin{tabular}{r|lllll}\n",
       " R.D.Spend & Administration & Marketing.Spend & State & Profit\\\\\n",
       "\\hline\n",
       "\t 165349.2   & 136897.80  & 471784.1   & New York   & 192261.8  \\\\\n",
       "\t 162597.7   & 151377.59  & 443898.5   & California & 191792.1  \\\\\n",
       "\t 153441.5   & 101145.55  & 407934.5   & Florida    & 191050.4  \\\\\n",
       "\t 144372.4   & 118671.85  & 383199.6   & New York   & 182902.0  \\\\\n",
       "\t 142107.3   &  91391.77  & 366168.4   & Florida    & 166187.9  \\\\\n",
       "\t 131876.9   &  99814.71  & 362861.4   & New York   & 156991.1  \\\\\n",
       "\\end{tabular}\n"
      ],
      "text/markdown": [
       "\n",
       "| R.D.Spend | Administration | Marketing.Spend | State | Profit |\n",
       "|---|---|---|---|---|\n",
       "| 165349.2   | 136897.80  | 471784.1   | New York   | 192261.8   |\n",
       "| 162597.7   | 151377.59  | 443898.5   | California | 191792.1   |\n",
       "| 153441.5   | 101145.55  | 407934.5   | Florida    | 191050.4   |\n",
       "| 144372.4   | 118671.85  | 383199.6   | New York   | 182902.0   |\n",
       "| 142107.3   |  91391.77  | 366168.4   | Florida    | 166187.9   |\n",
       "| 131876.9   |  99814.71  | 362861.4   | New York   | 156991.1   |\n",
       "\n"
      ],
      "text/plain": [
       "  R.D.Spend Administration Marketing.Spend State      Profit  \n",
       "1 165349.2  136897.80      471784.1        New York   192261.8\n",
       "2 162597.7  151377.59      443898.5        California 191792.1\n",
       "3 153441.5  101145.55      407934.5        Florida    191050.4\n",
       "4 144372.4  118671.85      383199.6        New York   182902.0\n",
       "5 142107.3   91391.77      366168.4        Florida    166187.9\n",
       "6 131876.9   99814.71      362861.4        New York   156991.1"
      ]
     },
     "metadata": {},
     "output_type": "display_data"
    }
   ],
   "source": [
    "head(data)"
   ]
  },
  {
   "cell_type": "markdown",
   "metadata": {},
   "source": [
    "Our target variable is ```Profit```"
   ]
  },
  {
   "cell_type": "markdown",
   "metadata": {},
   "source": [
    "Looking at statistically summary of ```data```"
   ]
  },
  {
   "cell_type": "code",
   "execution_count": 113,
   "metadata": {},
   "outputs": [
    {
     "name": "stdout",
     "output_type": "stream",
     "text": [
      "   R.D.Spend      Administration   Marketing.Spend         State    \n",
      " Min.   :     0   Min.   : 51283   Min.   :     0   California:344  \n",
      " 1st Qu.: 43085   1st Qu.:116641   1st Qu.:150970   Florida   :322  \n",
      " Median : 79936   Median :122422   Median :224518   New York  :334  \n",
      " Mean   : 81669   Mean   :122964   Mean   :226205                   \n",
      " 3rd Qu.:124566   3rd Qu.:129139   3rd Qu.:308190                   \n",
      " Max.   :165349   Max.   :321652   Max.   :471784                   \n",
      "     Profit      \n",
      " Min.   : 14681  \n",
      " 1st Qu.: 85943  \n",
      " Median :117642  \n",
      " Mean   :119546  \n",
      " 3rd Qu.:155577  \n",
      " Max.   :476485  \n"
     ]
    }
   ],
   "source": [
    "print(summary(data))"
   ]
  },
  {
   "cell_type": "markdown",
   "metadata": {},
   "source": [
    "Since linear regression wont work with NA values, hence we check"
   ]
  },
  {
   "cell_type": "code",
   "execution_count": 114,
   "metadata": {},
   "outputs": [
    {
     "data": {
      "text/html": [
       "FALSE"
      ],
      "text/latex": [
       "FALSE"
      ],
      "text/markdown": [
       "FALSE"
      ],
      "text/plain": [
       "[1] FALSE"
      ]
     },
     "metadata": {},
     "output_type": "display_data"
    }
   ],
   "source": [
    "any(is.na(data))"
   ]
  },
  {
   "cell_type": "markdown",
   "metadata": {},
   "source": [
    "We dont have any NA values"
   ]
  },
  {
   "cell_type": "markdown",
   "metadata": {},
   "source": [
    "<hr>"
   ]
  },
  {
   "cell_type": "markdown",
   "metadata": {},
   "source": [
    "Grouping all numeric variables together and keeping in a dataframe"
   ]
  },
  {
   "cell_type": "code",
   "execution_count": 115,
   "metadata": {},
   "outputs": [],
   "source": [
    "numeric.cols<-sapply(data,is.numeric)"
   ]
  },
  {
   "cell_type": "code",
   "execution_count": 116,
   "metadata": {},
   "outputs": [
    {
     "data": {
      "text/html": [
       "<dl class=dl-horizontal>\n",
       "\t<dt>R.D.Spend</dt>\n",
       "\t\t<dd>TRUE</dd>\n",
       "\t<dt>Administration</dt>\n",
       "\t\t<dd>TRUE</dd>\n",
       "\t<dt>Marketing.Spend</dt>\n",
       "\t\t<dd>TRUE</dd>\n",
       "\t<dt>State</dt>\n",
       "\t\t<dd>FALSE</dd>\n",
       "\t<dt>Profit</dt>\n",
       "\t\t<dd>TRUE</dd>\n",
       "</dl>\n"
      ],
      "text/latex": [
       "\\begin{description*}\n",
       "\\item[R.D.Spend] TRUE\n",
       "\\item[Administration] TRUE\n",
       "\\item[Marketing.Spend] TRUE\n",
       "\\item[State] FALSE\n",
       "\\item[Profit] TRUE\n",
       "\\end{description*}\n"
      ],
      "text/markdown": [
       "R.D.Spend\n",
       ":   TRUEAdministration\n",
       ":   TRUEMarketing.Spend\n",
       ":   TRUEState\n",
       ":   FALSEProfit\n",
       ":   TRUE\n",
       "\n"
      ],
      "text/plain": [
       "      R.D.Spend  Administration Marketing.Spend           State          Profit \n",
       "           TRUE            TRUE            TRUE           FALSE            TRUE "
      ]
     },
     "metadata": {},
     "output_type": "display_data"
    }
   ],
   "source": [
    "numeric.cols"
   ]
  },
  {
   "cell_type": "code",
   "execution_count": 117,
   "metadata": {},
   "outputs": [],
   "source": [
    "numdata<-cor(data[,numeric.cols])"
   ]
  },
  {
   "cell_type": "markdown",
   "metadata": {},
   "source": [
    "Making dataframe"
   ]
  },
  {
   "cell_type": "code",
   "execution_count": 118,
   "metadata": {},
   "outputs": [],
   "source": [
    "data2 <- data[,numeric.cols]"
   ]
  },
  {
   "cell_type": "code",
   "execution_count": 119,
   "metadata": {},
   "outputs": [
    {
     "data": {
      "text/html": [
       "<table>\n",
       "<thead><tr><th></th><th scope=col>R.D.Spend</th><th scope=col>Administration</th><th scope=col>Marketing.Spend</th><th scope=col>Profit</th></tr></thead>\n",
       "<tbody>\n",
       "\t<tr><th scope=row>R.D.Spend</th><td>1.0000000</td><td>0.5824338</td><td>0.9784066</td><td>0.9452453</td></tr>\n",
       "\t<tr><th scope=row>Administration</th><td>0.5824338</td><td>1.0000000</td><td>0.5204649</td><td>0.7415603</td></tr>\n",
       "\t<tr><th scope=row>Marketing.Spend</th><td>0.9784066</td><td>0.5204649</td><td>1.0000000</td><td>0.9172702</td></tr>\n",
       "\t<tr><th scope=row>Profit</th><td>0.9452453</td><td>0.7415603</td><td>0.9172702</td><td>1.0000000</td></tr>\n",
       "</tbody>\n",
       "</table>\n"
      ],
      "text/latex": [
       "\\begin{tabular}{r|llll}\n",
       "  & R.D.Spend & Administration & Marketing.Spend & Profit\\\\\n",
       "\\hline\n",
       "\tR.D.Spend & 1.0000000 & 0.5824338 & 0.9784066 & 0.9452453\\\\\n",
       "\tAdministration & 0.5824338 & 1.0000000 & 0.5204649 & 0.7415603\\\\\n",
       "\tMarketing.Spend & 0.9784066 & 0.5204649 & 1.0000000 & 0.9172702\\\\\n",
       "\tProfit & 0.9452453 & 0.7415603 & 0.9172702 & 1.0000000\\\\\n",
       "\\end{tabular}\n"
      ],
      "text/markdown": [
       "\n",
       "| <!--/--> | R.D.Spend | Administration | Marketing.Spend | Profit |\n",
       "|---|---|---|---|---|\n",
       "| R.D.Spend | 1.0000000 | 0.5824338 | 0.9784066 | 0.9452453 |\n",
       "| Administration | 0.5824338 | 1.0000000 | 0.5204649 | 0.7415603 |\n",
       "| Marketing.Spend | 0.9784066 | 0.5204649 | 1.0000000 | 0.9172702 |\n",
       "| Profit | 0.9452453 | 0.7415603 | 0.9172702 | 1.0000000 |\n",
       "\n"
      ],
      "text/plain": [
       "                R.D.Spend Administration Marketing.Spend Profit   \n",
       "R.D.Spend       1.0000000 0.5824338      0.9784066       0.9452453\n",
       "Administration  0.5824338 1.0000000      0.5204649       0.7415603\n",
       "Marketing.Spend 0.9784066 0.5204649      1.0000000       0.9172702\n",
       "Profit          0.9452453 0.7415603      0.9172702       1.0000000"
      ]
     },
     "metadata": {},
     "output_type": "display_data"
    }
   ],
   "source": [
    "head(numdata)"
   ]
  },
  {
   "cell_type": "markdown",
   "metadata": {},
   "source": [
    "<hr>"
   ]
  },
  {
   "cell_type": "markdown",
   "metadata": {},
   "source": [
    "Correlation Plot"
   ]
  },
  {
   "cell_type": "code",
   "execution_count": 120,
   "metadata": {},
   "outputs": [
    {
     "data": {
      "image/png": "[encoded data removed]",
      "text/plain": [
       "Plot with title \"Correlation plot\""
      ]
     },
     "metadata": {},
     "output_type": "display_data"
    }
   ],
   "source": [
    "corPlot(data2)"
   ]
  },
  {
   "cell_type": "markdown",
   "metadata": {},
   "source": [
    "### Inference:\n",
    "We can see that all the variables are correlated with each other, but the variables showing **marketing expenditure** and **R&D Expenditure** are more correltated to *Profit*.\n",
    "\n",
    "Hence, we will build two models one with all the data and one with above 90 score. The model with more $R^2$ will be selected for further process"
   ]
  },
  {
   "cell_type": "markdown",
   "metadata": {},
   "source": [
    "<hr>"
   ]
  },
  {
   "cell_type": "markdown",
   "metadata": {},
   "source": [
    "## Modelling"
   ]
  },
  {
   "cell_type": "markdown",
   "metadata": {},
   "source": [
    "Splitting data into 70 and 30 "
   ]
  },
  {
   "cell_type": "code",
   "execution_count": 121,
   "metadata": {},
   "outputs": [],
   "source": [
    "msk<-sample.split(data$Profit,SplitRatio = 0.7)"
   ]
  },
  {
   "cell_type": "code",
   "execution_count": 123,
   "metadata": {},
   "outputs": [],
   "source": [
    "train=data[msk==TRUE, ]\n",
    "test=data[msk==FALSE, ]"
   ]
  },
  {
   "cell_type": "markdown",
   "metadata": {},
   "source": [
    "Dropping ```state``` from train and test"
   ]
  },
  {
   "cell_type": "code",
   "execution_count": 124,
   "metadata": {},
   "outputs": [],
   "source": [
    "train = subset(train, select = -c(State) )\n",
    "test = subset(train, select = -c(State) )"
   ]
  },
  {
   "cell_type": "code",
   "execution_count": 125,
   "metadata": {},
   "outputs": [
    {
     "data": {
      "text/html": [
       "<table>\n",
       "<thead><tr><th></th><th scope=col>R.D.Spend</th><th scope=col>Administration</th><th scope=col>Marketing.Spend</th><th scope=col>Profit</th></tr></thead>\n",
       "<tbody>\n",
       "\t<tr><th scope=row>1</th><td>165349.2 </td><td>136897.80</td><td>471784.1 </td><td>192261.8 </td></tr>\n",
       "\t<tr><th scope=row>2</th><td>162597.7 </td><td>151377.59</td><td>443898.5 </td><td>191792.1 </td></tr>\n",
       "\t<tr><th scope=row>3</th><td>153441.5 </td><td>101145.55</td><td>407934.5 </td><td>191050.4 </td></tr>\n",
       "\t<tr><th scope=row>5</th><td>142107.3 </td><td> 91391.77</td><td>366168.4 </td><td>166187.9 </td></tr>\n",
       "\t<tr><th scope=row>7</th><td>134615.5 </td><td>147198.87</td><td>127716.8 </td><td>156122.5 </td></tr>\n",
       "\t<tr><th scope=row>8</th><td>130298.1 </td><td>145530.06</td><td>323876.7 </td><td>155752.6 </td></tr>\n",
       "</tbody>\n",
       "</table>\n"
      ],
      "text/latex": [
       "\\begin{tabular}{r|llll}\n",
       "  & R.D.Spend & Administration & Marketing.Spend & Profit\\\\\n",
       "\\hline\n",
       "\t1 & 165349.2  & 136897.80 & 471784.1  & 192261.8 \\\\\n",
       "\t2 & 162597.7  & 151377.59 & 443898.5  & 191792.1 \\\\\n",
       "\t3 & 153441.5  & 101145.55 & 407934.5  & 191050.4 \\\\\n",
       "\t5 & 142107.3  &  91391.77 & 366168.4  & 166187.9 \\\\\n",
       "\t7 & 134615.5  & 147198.87 & 127716.8  & 156122.5 \\\\\n",
       "\t8 & 130298.1  & 145530.06 & 323876.7  & 155752.6 \\\\\n",
       "\\end{tabular}\n"
      ],
      "text/markdown": [
       "\n",
       "| <!--/--> | R.D.Spend | Administration | Marketing.Spend | Profit |\n",
       "|---|---|---|---|---|\n",
       "| 1 | 165349.2  | 136897.80 | 471784.1  | 192261.8  |\n",
       "| 2 | 162597.7  | 151377.59 | 443898.5  | 191792.1  |\n",
       "| 3 | 153441.5  | 101145.55 | 407934.5  | 191050.4  |\n",
       "| 5 | 142107.3  |  91391.77 | 366168.4  | 166187.9  |\n",
       "| 7 | 134615.5  | 147198.87 | 127716.8  | 156122.5  |\n",
       "| 8 | 130298.1  | 145530.06 | 323876.7  | 155752.6  |\n",
       "\n"
      ],
      "text/plain": [
       "  R.D.Spend Administration Marketing.Spend Profit  \n",
       "1 165349.2  136897.80      471784.1        192261.8\n",
       "2 162597.7  151377.59      443898.5        191792.1\n",
       "3 153441.5  101145.55      407934.5        191050.4\n",
       "5 142107.3   91391.77      366168.4        166187.9\n",
       "7 134615.5  147198.87      127716.8        156122.5\n",
       "8 130298.1  145530.06      323876.7        155752.6"
      ]
     },
     "metadata": {},
     "output_type": "display_data"
    }
   ],
   "source": [
    "head(train)"
   ]
  },
  {
   "cell_type": "code",
   "execution_count": 126,
   "metadata": {},
   "outputs": [
    {
     "data": {
      "text/html": [
       "<table>\n",
       "<thead><tr><th></th><th scope=col>R.D.Spend</th><th scope=col>Administration</th><th scope=col>Marketing.Spend</th><th scope=col>Profit</th></tr></thead>\n",
       "<tbody>\n",
       "\t<tr><th scope=row>4</th><td>144372.41</td><td>118671.85</td><td>383199.6 </td><td>182902.0 </td></tr>\n",
       "\t<tr><th scope=row>6</th><td>131876.90</td><td> 99814.71</td><td>362861.4 </td><td>156991.1 </td></tr>\n",
       "\t<tr><th scope=row>11</th><td>101913.08</td><td>110594.11</td><td>229161.0 </td><td>146122.0 </td></tr>\n",
       "\t<tr><th scope=row>15</th><td>119943.24</td><td>156547.42</td><td>256512.9 </td><td>132602.6 </td></tr>\n",
       "\t<tr><th scope=row>17</th><td> 78013.11</td><td>121597.55</td><td>264346.1 </td><td>126992.9 </td></tr>\n",
       "\t<tr><th scope=row>18</th><td> 94657.16</td><td>145077.58</td><td>282574.3 </td><td>125370.4 </td></tr>\n",
       "</tbody>\n",
       "</table>\n"
      ],
      "text/latex": [
       "\\begin{tabular}{r|llll}\n",
       "  & R.D.Spend & Administration & Marketing.Spend & Profit\\\\\n",
       "\\hline\n",
       "\t4 & 144372.41 & 118671.85 & 383199.6  & 182902.0 \\\\\n",
       "\t6 & 131876.90 &  99814.71 & 362861.4  & 156991.1 \\\\\n",
       "\t11 & 101913.08 & 110594.11 & 229161.0  & 146122.0 \\\\\n",
       "\t15 & 119943.24 & 156547.42 & 256512.9  & 132602.6 \\\\\n",
       "\t17 &  78013.11 & 121597.55 & 264346.1  & 126992.9 \\\\\n",
       "\t18 &  94657.16 & 145077.58 & 282574.3  & 125370.4 \\\\\n",
       "\\end{tabular}\n"
      ],
      "text/markdown": [
       "\n",
       "| <!--/--> | R.D.Spend | Administration | Marketing.Spend | Profit |\n",
       "|---|---|---|---|---|\n",
       "| 4 | 144372.41 | 118671.85 | 383199.6  | 182902.0  |\n",
       "| 6 | 131876.90 |  99814.71 | 362861.4  | 156991.1  |\n",
       "| 11 | 101913.08 | 110594.11 | 229161.0  | 146122.0  |\n",
       "| 15 | 119943.24 | 156547.42 | 256512.9  | 132602.6  |\n",
       "| 17 |  78013.11 | 121597.55 | 264346.1  | 126992.9  |\n",
       "| 18 |  94657.16 | 145077.58 | 282574.3  | 125370.4  |\n",
       "\n"
      ],
      "text/plain": [
       "   R.D.Spend Administration Marketing.Spend Profit  \n",
       "4  144372.41 118671.85      383199.6        182902.0\n",
       "6  131876.90  99814.71      362861.4        156991.1\n",
       "11 101913.08 110594.11      229161.0        146122.0\n",
       "15 119943.24 156547.42      256512.9        132602.6\n",
       "17  78013.11 121597.55      264346.1        126992.9\n",
       "18  94657.16 145077.58      282574.3        125370.4"
      ]
     },
     "metadata": {},
     "output_type": "display_data"
    }
   ],
   "source": [
    "head(test)"
   ]
  },
  {
   "cell_type": "markdown",
   "metadata": {},
   "source": [
    "## Model 1"
   ]
  },
  {
   "cell_type": "markdown",
   "metadata": {},
   "source": [
    "Taking correlation with all other variables"
   ]
  },
  {
   "cell_type": "code",
   "execution_count": 127,
   "metadata": {},
   "outputs": [
    {
     "data": {
      "text/plain": [
       "\n",
       "Call:\n",
       "lm(formula = Profit ~ ., data = train)\n",
       "\n",
       "Residuals:\n",
       "   Min     1Q Median     3Q    Max \n",
       "-52056   -741   -122    395 170442 \n",
       "\n",
       "Coefficients:\n",
       "                  Estimate Std. Error t value Pr(>|t|)    \n",
       "(Intercept)     -6.134e+04  4.202e+03 -14.599  < 2e-16 ***\n",
       "R.D.Spend        5.325e-01  3.488e-02  15.269  < 2e-16 ***\n",
       "Administration   9.275e-01  3.263e-02  28.428  < 2e-16 ***\n",
       "Marketing.Spend  1.024e-01  1.668e-02   6.138  1.4e-09 ***\n",
       "---\n",
       "Signif. codes:  0 '***' 0.001 '**' 0.01 '*' 0.05 '.' 0.1 ' ' 1\n",
       "\n",
       "Residual standard error: 8757 on 696 degrees of freedom\n",
       "Multiple R-squared:  0.9587,\tAdjusted R-squared:  0.9586 \n",
       "F-statistic:  5392 on 3 and 696 DF,  p-value: < 2.2e-16\n"
      ]
     },
     "metadata": {},
     "output_type": "display_data"
    }
   ],
   "source": [
    "model1<-lm(Profit~.,train)\n",
    "summary(model1)"
   ]
  },
  {
   "cell_type": "markdown",
   "metadata": {},
   "source": [
    "$R^2$ is $95.87%$"
   ]
  },
  {
   "cell_type": "markdown",
   "metadata": {},
   "source": [
    "## Model 2"
   ]
  },
  {
   "cell_type": "markdown",
   "metadata": {},
   "source": [
    "Taking correlation with above 90"
   ]
  },
  {
   "cell_type": "code",
   "execution_count": 128,
   "metadata": {},
   "outputs": [
    {
     "data": {
      "text/plain": [
       "\n",
       "Call:\n",
       "lm(formula = Profit ~ R.D.Spend + Marketing.Spend, data = train)\n",
       "\n",
       "Residuals:\n",
       "   Min     1Q Median     3Q    Max \n",
       "-34924  -1574   -586    222 281960 \n",
       "\n",
       "Coefficients:\n",
       "                  Estimate Std. Error t value Pr(>|t|)    \n",
       "(Intercept)      5.255e+04  1.860e+03  28.251  < 2e-16 ***\n",
       "R.D.Spend        1.000e+00  4.517e-02  22.149  < 2e-16 ***\n",
       "Marketing.Spend -6.525e-02  2.292e-02  -2.847  0.00455 ** \n",
       "---\n",
       "Signif. codes:  0 '***' 0.001 '**' 0.01 '*' 0.05 '.' 0.1 ' ' 1\n",
       "\n",
       "Residual standard error: 12860 on 697 degrees of freedom\n",
       "Multiple R-squared:  0.9109,\tAdjusted R-squared:  0.9106 \n",
       "F-statistic:  3561 on 2 and 697 DF,  p-value: < 2.2e-16\n"
      ]
     },
     "metadata": {},
     "output_type": "display_data"
    }
   ],
   "source": [
    "model2<-lm(Profit~R.D.Spend+Marketing.Spend,train)\n",
    "summary(model2)"
   ]
  },
  {
   "cell_type": "markdown",
   "metadata": {},
   "source": [
    "$R^2$ is $91.09%$"
   ]
  },
  {
   "cell_type": "markdown",
   "metadata": {},
   "source": [
    "We will proceed with **model 1**"
   ]
  },
  {
   "cell_type": "markdown",
   "metadata": {},
   "source": [
    "<hr>"
   ]
  },
  {
   "cell_type": "markdown",
   "metadata": {},
   "source": [
    "## Residuals"
   ]
  },
  {
   "cell_type": "markdown",
   "metadata": {},
   "source": [
    "Calculating residuals"
   ]
  },
  {
   "cell_type": "code",
   "execution_count": 129,
   "metadata": {},
   "outputs": [
    {
     "data": {
      "text/html": [
       "<table>\n",
       "<thead><tr><th></th><th scope=col>res</th></tr></thead>\n",
       "<tbody>\n",
       "\t<tr><th scope=row>1</th><td> -9728.080</td></tr>\n",
       "\t<tr><th scope=row>2</th><td>-19307.959</td></tr>\n",
       "\t<tr><th scope=row>3</th><td> 35100.151</td></tr>\n",
       "\t<tr><th scope=row>5</th><td> 29596.472</td></tr>\n",
       "\t<tr><th scope=row>7</th><td> -3827.527</td></tr>\n",
       "\t<tr><th scope=row>8</th><td>-20435.222</td></tr>\n",
       "</tbody>\n",
       "</table>\n"
      ],
      "text/latex": [
       "\\begin{tabular}{r|l}\n",
       "  & res\\\\\n",
       "\\hline\n",
       "\t1 &  -9728.080\\\\\n",
       "\t2 & -19307.959\\\\\n",
       "\t3 &  35100.151\\\\\n",
       "\t5 &  29596.472\\\\\n",
       "\t7 &  -3827.527\\\\\n",
       "\t8 & -20435.222\\\\\n",
       "\\end{tabular}\n"
      ],
      "text/markdown": [
       "\n",
       "| <!--/--> | res |\n",
       "|---|---|\n",
       "| 1 |  -9728.080 |\n",
       "| 2 | -19307.959 |\n",
       "| 3 |  35100.151 |\n",
       "| 5 |  29596.472 |\n",
       "| 7 |  -3827.527 |\n",
       "| 8 | -20435.222 |\n",
       "\n"
      ],
      "text/plain": [
       "  res       \n",
       "1  -9728.080\n",
       "2 -19307.959\n",
       "3  35100.151\n",
       "5  29596.472\n",
       "7  -3827.527\n",
       "8 -20435.222"
      ]
     },
     "metadata": {},
     "output_type": "display_data"
    }
   ],
   "source": [
    "res<-residuals(model1)\n",
    "res<-as.data.frame(res)\n",
    "head(res)"
   ]
  },
  {
   "cell_type": "markdown",
   "metadata": {},
   "source": [
    "Plotting Residuals"
   ]
  },
  {
   "cell_type": "code",
   "execution_count": 130,
   "metadata": {},
   "outputs": [
    {
     "data": {
      "image/png": "[encoded data removed]",
      "text/plain": [
       "plot without title"
      ]
     },
     "metadata": {},
     "output_type": "display_data"
    }
   ],
   "source": [
    "ggplot(res,aes(res))+geom_histogram(fill='blue',binwidth=30)"
   ]
  },
  {
   "cell_type": "markdown",
   "metadata": {},
   "source": [
    "## Predicting"
   ]
  },
  {
   "cell_type": "markdown",
   "metadata": {},
   "source": [
    "Predicting Profit from the model, we have built"
   ]
  },
  {
   "cell_type": "code",
   "execution_count": 140,
   "metadata": {},
   "outputs": [],
   "source": [
    "prediction<-predict(model1,test)\n",
    "result<-cbind(prediction,test$Profit)"
   ]
  },
  {
   "cell_type": "code",
   "execution_count": 141,
   "metadata": {},
   "outputs": [],
   "source": [
    "colnames(result)<-c(\"pred\",\"real\")\n",
    "result<-as.data.frame(result)"
   ]
  },
  {
   "cell_type": "markdown",
   "metadata": {},
   "source": [
    "in a dataframe"
   ]
  },
  {
   "cell_type": "code",
   "execution_count": 142,
   "metadata": {},
   "outputs": [
    {
     "data": {
      "text/html": [
       "<table>\n",
       "<thead><tr><th></th><th scope=col>pred</th><th scope=col>real</th></tr></thead>\n",
       "<tbody>\n",
       "\t<tr><th scope=row>4</th><td>164844.6</td><td>182902.0</td></tr>\n",
       "\t<tr><th scope=row>6</th><td>138617.7</td><td>156991.1</td></tr>\n",
       "\t<tr><th scope=row>11</th><td>118970.8</td><td>146122.0</td></tr>\n",
       "\t<tr><th scope=row>15</th><td>173995.5</td><td>132602.6</td></tr>\n",
       "\t<tr><th scope=row>17</th><td>120052.6</td><td>126992.9</td></tr>\n",
       "\t<tr><th scope=row>18</th><td>152560.4</td><td>125370.4</td></tr>\n",
       "</tbody>\n",
       "</table>\n"
      ],
      "text/latex": [
       "\\begin{tabular}{r|ll}\n",
       "  & pred & real\\\\\n",
       "\\hline\n",
       "\t4 & 164844.6 & 182902.0\\\\\n",
       "\t6 & 138617.7 & 156991.1\\\\\n",
       "\t11 & 118970.8 & 146122.0\\\\\n",
       "\t15 & 173995.5 & 132602.6\\\\\n",
       "\t17 & 120052.6 & 126992.9\\\\\n",
       "\t18 & 152560.4 & 125370.4\\\\\n",
       "\\end{tabular}\n"
      ],
      "text/markdown": [
       "\n",
       "| <!--/--> | pred | real |\n",
       "|---|---|---|\n",
       "| 4 | 164844.6 | 182902.0 |\n",
       "| 6 | 138617.7 | 156991.1 |\n",
       "| 11 | 118970.8 | 146122.0 |\n",
       "| 15 | 173995.5 | 132602.6 |\n",
       "| 17 | 120052.6 | 126992.9 |\n",
       "| 18 | 152560.4 | 125370.4 |\n",
       "\n"
      ],
      "text/plain": [
       "   pred     real    \n",
       "4  164844.6 182902.0\n",
       "6  138617.7 156991.1\n",
       "11 118970.8 146122.0\n",
       "15 173995.5 132602.6\n",
       "17 120052.6 126992.9\n",
       "18 152560.4 125370.4"
      ]
     },
     "metadata": {},
     "output_type": "display_data"
    }
   ],
   "source": [
    "head(result)"
   ]
  },
  {
   "cell_type": "markdown",
   "metadata": {},
   "source": [
    "removing negatives"
   ]
  },
  {
   "cell_type": "code",
   "execution_count": 136,
   "metadata": {},
   "outputs": [
    {
     "data": {
      "text/html": [
       "<table>\n",
       "<thead><tr><th></th><th scope=col>pred</th><th scope=col>real</th></tr></thead>\n",
       "<tbody>\n",
       "\t<tr><th scope=row>4</th><td>164844.6</td><td>182902.0</td></tr>\n",
       "\t<tr><th scope=row>6</th><td>138617.7</td><td>156991.1</td></tr>\n",
       "\t<tr><th scope=row>11</th><td>118970.8</td><td>146122.0</td></tr>\n",
       "\t<tr><th scope=row>15</th><td>173995.5</td><td>132602.6</td></tr>\n",
       "\t<tr><th scope=row>17</th><td>120052.6</td><td>126992.9</td></tr>\n",
       "\t<tr><th scope=row>18</th><td>152560.4</td><td>125370.4</td></tr>\n",
       "</tbody>\n",
       "</table>\n"
      ],
      "text/latex": [
       "\\begin{tabular}{r|ll}\n",
       "  & pred & real\\\\\n",
       "\\hline\n",
       "\t4 & 164844.6 & 182902.0\\\\\n",
       "\t6 & 138617.7 & 156991.1\\\\\n",
       "\t11 & 118970.8 & 146122.0\\\\\n",
       "\t15 & 173995.5 & 132602.6\\\\\n",
       "\t17 & 120052.6 & 126992.9\\\\\n",
       "\t18 & 152560.4 & 125370.4\\\\\n",
       "\\end{tabular}\n"
      ],
      "text/markdown": [
       "\n",
       "| <!--/--> | pred | real |\n",
       "|---|---|---|\n",
       "| 4 | 164844.6 | 182902.0 |\n",
       "| 6 | 138617.7 | 156991.1 |\n",
       "| 11 | 118970.8 | 146122.0 |\n",
       "| 15 | 173995.5 | 132602.6 |\n",
       "| 17 | 120052.6 | 126992.9 |\n",
       "| 18 | 152560.4 | 125370.4 |\n",
       "\n"
      ],
      "text/plain": [
       "   pred     real    \n",
       "4  164844.6 182902.0\n",
       "6  138617.7 156991.1\n",
       "11 118970.8 146122.0\n",
       "15 173995.5 132602.6\n",
       "17 120052.6 126992.9\n",
       "18 152560.4 125370.4"
      ]
     },
     "metadata": {},
     "output_type": "display_data"
    }
   ],
   "source": [
    "to_zero<-function(x)\n",
    "{\n",
    "    if(x<0)\n",
    "    {\n",
    "     return(0)\n",
    "    }\n",
    "    else\n",
    "    {\n",
    "     return(x)\n",
    "    }\n",
    "}\n",
    "\n",
    "result$pred<-sapply(result$pred,to_zero)\n",
    "head(result)"
   ]
  },
  {
   "cell_type": "markdown",
   "metadata": {},
   "source": [
    "## Results"
   ]
  },
  {
   "cell_type": "code",
   "execution_count": 143,
   "metadata": {},
   "outputs": [],
   "source": [
    "se<-(result$real-result$pred)^2\n",
    "sse <- sum(se)\n",
    "mse <- sse/nrow(result)"
   ]
  },
  {
   "cell_type": "markdown",
   "metadata": {},
   "source": [
    "### Mean Square Error"
   ]
  },
  {
   "cell_type": "code",
   "execution_count": 144,
   "metadata": {},
   "outputs": [
    {
     "name": "stdout",
     "output_type": "stream",
     "text": [
      "[1] 134311938\n"
     ]
    }
   ],
   "source": [
    "print(mse)"
   ]
  },
  {
   "cell_type": "markdown",
   "metadata": {},
   "source": [
    "### $R^2$"
   ]
  },
  {
   "cell_type": "code",
   "execution_count": 145,
   "metadata": {},
   "outputs": [
    {
     "data": {
      "text/html": [
       "0.919440732716305"
      ],
      "text/latex": [
       "0.919440732716305"
      ],
      "text/markdown": [
       "0.919440732716305"
      ],
      "text/plain": [
       "[1] 0.9194407"
      ]
     },
     "metadata": {},
     "output_type": "display_data"
    }
   ],
   "source": [
    "sse<-sum((result$pred-result$real)^2)\n",
    "sst<-sum((result$pred-mean(result$pred))^2)\n",
    "R2<-1-(sse/sst)\n",
    "R2"
   ]
  },
  {
   "cell_type": "markdown",
   "metadata": {},
   "source": [
    "# Conclusion"
   ]
  },
  {
   "cell_type": "markdown",
   "metadata": {},
   "source": [
    "The model has $R^2$ of $91.94%$ which is almost close to 1, hence we can say that the other variables are able to describe the variable of Profit."
   ]
  }
 ],
 "metadata": {
  "kernelspec": {
   "display_name": "R",
   "language": "R",
   "name": "ir"
  },
  "language_info": {
   "codemirror_mode": "r",
   "file_extension": ".r",
   "mimetype": "text/x-r-source",
   "name": "R",
   "pygments_lexer": "r",
   "version": "3.6.1"
  }
 },
 "nbformat": 4,
 "nbformat_minor": 2
}
