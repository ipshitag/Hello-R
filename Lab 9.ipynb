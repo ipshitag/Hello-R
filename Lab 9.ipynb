{
 "cells": [
  {
   "cell_type": "markdown",
   "metadata": {},
   "source": [
    "# Lab 9\n",
    "\n",
    "## 23rd March 2021"
   ]
  },
  {
   "cell_type": "code",
   "execution_count": 2,
   "metadata": {},
   "outputs": [],
   "source": [
    "#installing important libraries\n",
    "\n",
    "#visualizatiom\n",
    "library(dplyr)\n",
    "library(ggplot2)\n",
    "\n",
    "#data wrangling\n",
    "library(repr)\n",
    "library(reshape2)\n",
    "\n",
    "#feature selection\n",
    "library(Boruta)"
   ]
  },
  {
   "cell_type": "code",
   "execution_count": 3,
   "metadata": {},
   "outputs": [],
   "source": [
    "#loading data\n",
    "df <- read.csv('energydata.csv')"
   ]
  },
  {
   "cell_type": "code",
   "execution_count": 4,
   "metadata": {},
   "outputs": [
    {
     "name": "stdout",
     "output_type": "stream",
     "text": [
      "'data.frame':\t19735 obs. of  29 variables:\n",
      " $ date       : Factor w/ 19735 levels \"2016-01-11 17:00:00\",..: 1 2 3 4 5 6 7 8 9 10 ...\n",
      " $ Appliances : int  60 60 50 50 60 50 60 60 60 70 ...\n",
      " $ lights     : int  30 30 30 40 40 40 50 50 40 40 ...\n",
      " $ T1         : num  19.9 19.9 19.9 19.9 19.9 ...\n",
      " $ RH_1       : num  47.6 46.7 46.3 46.1 46.3 ...\n",
      " $ T2         : num  19.2 19.2 19.2 19.2 19.2 ...\n",
      " $ RH_2       : num  44.8 44.7 44.6 44.6 44.5 ...\n",
      " $ T3         : num  19.8 19.8 19.8 19.8 19.8 ...\n",
      " $ RH_3       : num  44.7 44.8 44.9 45 45 ...\n",
      " $ T4         : num  19 19 18.9 18.9 18.9 ...\n",
      " $ RH_4       : num  45.6 46 45.9 45.7 45.5 ...\n",
      " $ T5         : num  17.2 17.2 17.2 17.2 17.2 ...\n",
      " $ RH_5       : num  55.2 55.2 55.1 55.1 55.1 ...\n",
      " $ T6         : num  7.03 6.83 6.56 6.43 6.37 ...\n",
      " $ RH_6       : num  84.3 84.1 83.2 83.4 84.9 ...\n",
      " $ T7         : num  17.2 17.2 17.2 17.1 17.2 ...\n",
      " $ RH_7       : num  41.6 41.6 41.4 41.3 41.2 ...\n",
      " $ T8         : num  18.2 18.2 18.2 18.1 18.1 18.1 18.1 18.1 18.1 18.1 ...\n",
      " $ RH_8       : num  48.9 48.9 48.7 48.6 48.6 ...\n",
      " $ T9         : num  17 17.1 17 17 17 ...\n",
      " $ RH_9       : num  45.5 45.6 45.5 45.4 45.4 ...\n",
      " $ T_out      : num  6.6 6.48 6.37 6.25 6.13 ...\n",
      " $ Press_mm_hg: num  734 734 734 734 734 ...\n",
      " $ RH_out     : num  92 92 92 92 92 ...\n",
      " $ Windspeed  : num  7 6.67 6.33 6 5.67 ...\n",
      " $ Visibility : num  63 59.2 55.3 51.5 47.7 ...\n",
      " $ Tdewpoint  : num  5.3 5.2 5.1 5 4.9 ...\n",
      " $ rv1        : num  13.3 18.6 28.6 45.4 10.1 ...\n",
      " $ rv2        : num  13.3 18.6 28.6 45.4 10.1 ...\n"
     ]
    }
   ],
   "source": [
    "#attributes check\n",
    "str(df)"
   ]
  },
  {
   "cell_type": "markdown",
   "metadata": {},
   "source": [
    "All the features except date in numeric or integer, which is great"
   ]
  },
  {
   "cell_type": "code",
   "execution_count": 5,
   "metadata": {},
   "outputs": [
    {
     "data": {
      "text/html": [
       "<table>\n",
       "<thead><tr><th scope=col>date</th><th scope=col>Appliances</th><th scope=col>lights</th><th scope=col>T1</th><th scope=col>RH_1</th><th scope=col>T2</th><th scope=col>RH_2</th><th scope=col>T3</th><th scope=col>RH_3</th><th scope=col>T4</th><th scope=col>...</th><th scope=col>T9</th><th scope=col>RH_9</th><th scope=col>T_out</th><th scope=col>Press_mm_hg</th><th scope=col>RH_out</th><th scope=col>Windspeed</th><th scope=col>Visibility</th><th scope=col>Tdewpoint</th><th scope=col>rv1</th><th scope=col>rv2</th></tr></thead>\n",
       "<tbody>\n",
       "\t<tr><td>2016-01-11 17:00:00</td><td>60                 </td><td>30                 </td><td>19.89              </td><td>47.59667           </td><td>19.2               </td><td>44.79000           </td><td>19.79              </td><td>44.73000           </td><td>19.00000           </td><td>...                </td><td>17.03333           </td><td>45.53              </td><td>6.600000           </td><td>733.5              </td><td>92                 </td><td>7.000000           </td><td>63.00000           </td><td>5.3                </td><td>13.27543           </td><td>13.27543           </td></tr>\n",
       "\t<tr><td>2016-01-11 17:10:00</td><td>60                 </td><td>30                 </td><td>19.89              </td><td>46.69333           </td><td>19.2               </td><td>44.72250           </td><td>19.79              </td><td>44.79000           </td><td>19.00000           </td><td>...                </td><td>17.06667           </td><td>45.56              </td><td>6.483333           </td><td>733.6              </td><td>92                 </td><td>6.666667           </td><td>59.16667           </td><td>5.2                </td><td>18.60619           </td><td>18.60619           </td></tr>\n",
       "\t<tr><td>2016-01-11 17:20:00</td><td>50                 </td><td>30                 </td><td>19.89              </td><td>46.30000           </td><td>19.2               </td><td>44.62667           </td><td>19.79              </td><td>44.93333           </td><td>18.92667           </td><td>...                </td><td>17.00000           </td><td>45.50              </td><td>6.366667           </td><td>733.7              </td><td>92                 </td><td>6.333333           </td><td>55.33333           </td><td>5.1                </td><td>28.64267           </td><td>28.64267           </td></tr>\n",
       "\t<tr><td>2016-01-11 17:30:00</td><td>50                 </td><td>40                 </td><td>19.89              </td><td>46.06667           </td><td>19.2               </td><td>44.59000           </td><td>19.79              </td><td>45.00000           </td><td>18.89000           </td><td>...                </td><td>17.00000           </td><td>45.40              </td><td>6.250000           </td><td>733.8              </td><td>92                 </td><td>6.000000           </td><td>51.50000           </td><td>5.0                </td><td>45.41039           </td><td>45.41039           </td></tr>\n",
       "\t<tr><td>2016-01-11 17:40:00</td><td>60                 </td><td>40                 </td><td>19.89              </td><td>46.33333           </td><td>19.2               </td><td>44.53000           </td><td>19.79              </td><td>45.00000           </td><td>18.89000           </td><td>...                </td><td>17.00000           </td><td>45.40              </td><td>6.133333           </td><td>733.9              </td><td>92                 </td><td>5.666667           </td><td>47.66667           </td><td>4.9                </td><td>10.08410           </td><td>10.08410           </td></tr>\n",
       "\t<tr><td>2016-01-11 17:50:00</td><td>50                 </td><td>40                 </td><td>19.89              </td><td>46.02667           </td><td>19.2               </td><td>44.50000           </td><td>19.79              </td><td>44.93333           </td><td>18.89000           </td><td>...                </td><td>17.00000           </td><td>45.29              </td><td>6.016667           </td><td>734.0              </td><td>92                 </td><td>5.333333           </td><td>43.83333           </td><td>4.8                </td><td>44.91948           </td><td>44.91948           </td></tr>\n",
       "</tbody>\n",
       "</table>\n"
      ],
      "text/latex": [
       "\\begin{tabular}{r|lllllllllllllllllllllllllllll}\n",
       " date & Appliances & lights & T1 & RH\\_1 & T2 & RH\\_2 & T3 & RH\\_3 & T4 & ... & T9 & RH\\_9 & T\\_out & Press\\_mm\\_hg & RH\\_out & Windspeed & Visibility & Tdewpoint & rv1 & rv2\\\\\n",
       "\\hline\n",
       "\t 2016-01-11 17:00:00 & 60                  & 30                  & 19.89               & 47.59667            & 19.2                & 44.79000            & 19.79               & 44.73000            & 19.00000            & ...                 & 17.03333            & 45.53               & 6.600000            & 733.5               & 92                  & 7.000000            & 63.00000            & 5.3                 & 13.27543            & 13.27543           \\\\\n",
       "\t 2016-01-11 17:10:00 & 60                  & 30                  & 19.89               & 46.69333            & 19.2                & 44.72250            & 19.79               & 44.79000            & 19.00000            & ...                 & 17.06667            & 45.56               & 6.483333            & 733.6               & 92                  & 6.666667            & 59.16667            & 5.2                 & 18.60619            & 18.60619           \\\\\n",
       "\t 2016-01-11 17:20:00 & 50                  & 30                  & 19.89               & 46.30000            & 19.2                & 44.62667            & 19.79               & 44.93333            & 18.92667            & ...                 & 17.00000            & 45.50               & 6.366667            & 733.7               & 92                  & 6.333333            & 55.33333            & 5.1                 & 28.64267            & 28.64267           \\\\\n",
       "\t 2016-01-11 17:30:00 & 50                  & 40                  & 19.89               & 46.06667            & 19.2                & 44.59000            & 19.79               & 45.00000            & 18.89000            & ...                 & 17.00000            & 45.40               & 6.250000            & 733.8               & 92                  & 6.000000            & 51.50000            & 5.0                 & 45.41039            & 45.41039           \\\\\n",
       "\t 2016-01-11 17:40:00 & 60                  & 40                  & 19.89               & 46.33333            & 19.2                & 44.53000            & 19.79               & 45.00000            & 18.89000            & ...                 & 17.00000            & 45.40               & 6.133333            & 733.9               & 92                  & 5.666667            & 47.66667            & 4.9                 & 10.08410            & 10.08410           \\\\\n",
       "\t 2016-01-11 17:50:00 & 50                  & 40                  & 19.89               & 46.02667            & 19.2                & 44.50000            & 19.79               & 44.93333            & 18.89000            & ...                 & 17.00000            & 45.29               & 6.016667            & 734.0               & 92                  & 5.333333            & 43.83333            & 4.8                 & 44.91948            & 44.91948           \\\\\n",
       "\\end{tabular}\n"
      ],
      "text/markdown": [
       "\n",
       "| date | Appliances | lights | T1 | RH_1 | T2 | RH_2 | T3 | RH_3 | T4 | ... | T9 | RH_9 | T_out | Press_mm_hg | RH_out | Windspeed | Visibility | Tdewpoint | rv1 | rv2 |\n",
       "|---|---|---|---|---|---|---|---|---|---|---|---|---|---|---|---|---|---|---|---|---|\n",
       "| 2016-01-11 17:00:00 | 60                  | 30                  | 19.89               | 47.59667            | 19.2                | 44.79000            | 19.79               | 44.73000            | 19.00000            | ...                 | 17.03333            | 45.53               | 6.600000            | 733.5               | 92                  | 7.000000            | 63.00000            | 5.3                 | 13.27543            | 13.27543            |\n",
       "| 2016-01-11 17:10:00 | 60                  | 30                  | 19.89               | 46.69333            | 19.2                | 44.72250            | 19.79               | 44.79000            | 19.00000            | ...                 | 17.06667            | 45.56               | 6.483333            | 733.6               | 92                  | 6.666667            | 59.16667            | 5.2                 | 18.60619            | 18.60619            |\n",
       "| 2016-01-11 17:20:00 | 50                  | 30                  | 19.89               | 46.30000            | 19.2                | 44.62667            | 19.79               | 44.93333            | 18.92667            | ...                 | 17.00000            | 45.50               | 6.366667            | 733.7               | 92                  | 6.333333            | 55.33333            | 5.1                 | 28.64267            | 28.64267            |\n",
       "| 2016-01-11 17:30:00 | 50                  | 40                  | 19.89               | 46.06667            | 19.2                | 44.59000            | 19.79               | 45.00000            | 18.89000            | ...                 | 17.00000            | 45.40               | 6.250000            | 733.8               | 92                  | 6.000000            | 51.50000            | 5.0                 | 45.41039            | 45.41039            |\n",
       "| 2016-01-11 17:40:00 | 60                  | 40                  | 19.89               | 46.33333            | 19.2                | 44.53000            | 19.79               | 45.00000            | 18.89000            | ...                 | 17.00000            | 45.40               | 6.133333            | 733.9               | 92                  | 5.666667            | 47.66667            | 4.9                 | 10.08410            | 10.08410            |\n",
       "| 2016-01-11 17:50:00 | 50                  | 40                  | 19.89               | 46.02667            | 19.2                | 44.50000            | 19.79               | 44.93333            | 18.89000            | ...                 | 17.00000            | 45.29               | 6.016667            | 734.0               | 92                  | 5.333333            | 43.83333            | 4.8                 | 44.91948            | 44.91948            |\n",
       "\n"
      ],
      "text/plain": [
       "  date                Appliances lights T1    RH_1     T2   RH_2     T3   \n",
       "1 2016-01-11 17:00:00 60         30     19.89 47.59667 19.2 44.79000 19.79\n",
       "2 2016-01-11 17:10:00 60         30     19.89 46.69333 19.2 44.72250 19.79\n",
       "3 2016-01-11 17:20:00 50         30     19.89 46.30000 19.2 44.62667 19.79\n",
       "4 2016-01-11 17:30:00 50         40     19.89 46.06667 19.2 44.59000 19.79\n",
       "5 2016-01-11 17:40:00 60         40     19.89 46.33333 19.2 44.53000 19.79\n",
       "6 2016-01-11 17:50:00 50         40     19.89 46.02667 19.2 44.50000 19.79\n",
       "  RH_3     T4       ... T9       RH_9  T_out    Press_mm_hg RH_out Windspeed\n",
       "1 44.73000 19.00000 ... 17.03333 45.53 6.600000 733.5       92     7.000000 \n",
       "2 44.79000 19.00000 ... 17.06667 45.56 6.483333 733.6       92     6.666667 \n",
       "3 44.93333 18.92667 ... 17.00000 45.50 6.366667 733.7       92     6.333333 \n",
       "4 45.00000 18.89000 ... 17.00000 45.40 6.250000 733.8       92     6.000000 \n",
       "5 45.00000 18.89000 ... 17.00000 45.40 6.133333 733.9       92     5.666667 \n",
       "6 44.93333 18.89000 ... 17.00000 45.29 6.016667 734.0       92     5.333333 \n",
       "  Visibility Tdewpoint rv1      rv2     \n",
       "1 63.00000   5.3       13.27543 13.27543\n",
       "2 59.16667   5.2       18.60619 18.60619\n",
       "3 55.33333   5.1       28.64267 28.64267\n",
       "4 51.50000   5.0       45.41039 45.41039\n",
       "5 47.66667   4.9       10.08410 10.08410\n",
       "6 43.83333   4.8       44.91948 44.91948"
      ]
     },
     "metadata": {},
     "output_type": "display_data"
    }
   ],
   "source": [
    "#sneak in\n",
    "head(df)"
   ]
  },
  {
   "cell_type": "code",
   "execution_count": 6,
   "metadata": {},
   "outputs": [
    {
     "data": {
      "image/png": "[encoded data removed]",
      "text/plain": [
       "plot without title"
      ]
     },
     "metadata": {},
     "output_type": "display_data"
    }
   ],
   "source": [
    "#visualizing mising data\n",
    "ggplot_missing <- function(x){\n",
    "\n",
    "  x %>% \n",
    "    is.na %>%\n",
    "    melt %>%\n",
    "    ggplot(data = .,\n",
    "           aes(x = Var2,\n",
    "               y = Var1)) +\n",
    "    geom_raster(aes(fill = value)) +\n",
    "    scale_fill_grey(name = \"\",\n",
    "                    labels = c(\"Present\",\"Missing\")) +\n",
    "    theme_minimal() + \n",
    "    theme(axis.text.x  = element_text(angle=45, vjust=0.5)) + \n",
    "    labs(x = \"Variables in Dataset\",\n",
    "         y = \"Rows / observations\")\n",
    "}\n",
    "ggplot_missing(df)"
   ]
  },
  {
   "cell_type": "markdown",
   "metadata": {},
   "source": [
    "We can see that there is no missing data, which is amazing"
   ]
  },
  {
   "cell_type": "code",
   "execution_count": 7,
   "metadata": {},
   "outputs": [
    {
     "data": {
      "text/plain": [
       "                  date         Appliances          lights             T1       \n",
       " 2016-01-11 17:00:00:    1   Min.   :  10.00   Min.   : 0.000   Min.   :16.79  \n",
       " 2016-01-11 17:10:00:    1   1st Qu.:  50.00   1st Qu.: 0.000   1st Qu.:20.76  \n",
       " 2016-01-11 17:20:00:    1   Median :  60.00   Median : 0.000   Median :21.60  \n",
       " 2016-01-11 17:30:00:    1   Mean   :  97.69   Mean   : 3.802   Mean   :21.69  \n",
       " 2016-01-11 17:40:00:    1   3rd Qu.: 100.00   3rd Qu.: 0.000   3rd Qu.:22.60  \n",
       " 2016-01-11 17:50:00:    1   Max.   :1080.00   Max.   :70.000   Max.   :26.26  \n",
       " (Other)            :19729                                                     \n",
       "      RH_1             T2             RH_2             T3       \n",
       " Min.   :27.02   Min.   :16.10   Min.   :20.46   Min.   :17.20  \n",
       " 1st Qu.:37.33   1st Qu.:18.79   1st Qu.:37.90   1st Qu.:20.79  \n",
       " Median :39.66   Median :20.00   Median :40.50   Median :22.10  \n",
       " Mean   :40.26   Mean   :20.34   Mean   :40.42   Mean   :22.27  \n",
       " 3rd Qu.:43.07   3rd Qu.:21.50   3rd Qu.:43.26   3rd Qu.:23.29  \n",
       " Max.   :63.36   Max.   :29.86   Max.   :56.03   Max.   :29.24  \n",
       "                                                                \n",
       "      RH_3             T4             RH_4             T5       \n",
       " Min.   :28.77   Min.   :15.10   Min.   :27.66   Min.   :15.33  \n",
       " 1st Qu.:36.90   1st Qu.:19.53   1st Qu.:35.53   1st Qu.:18.28  \n",
       " Median :38.53   Median :20.67   Median :38.40   Median :19.39  \n",
       " Mean   :39.24   Mean   :20.86   Mean   :39.03   Mean   :19.59  \n",
       " 3rd Qu.:41.76   3rd Qu.:22.10   3rd Qu.:42.16   3rd Qu.:20.62  \n",
       " Max.   :50.16   Max.   :26.20   Max.   :51.09   Max.   :25.80  \n",
       "                                                                \n",
       "      RH_5             T6              RH_6             T7       \n",
       " Min.   :29.82   Min.   :-6.065   Min.   : 1.00   Min.   :15.39  \n",
       " 1st Qu.:45.40   1st Qu.: 3.627   1st Qu.:30.02   1st Qu.:18.70  \n",
       " Median :49.09   Median : 7.300   Median :55.29   Median :20.03  \n",
       " Mean   :50.95   Mean   : 7.911   Mean   :54.61   Mean   :20.27  \n",
       " 3rd Qu.:53.66   3rd Qu.:11.256   3rd Qu.:83.23   3rd Qu.:21.60  \n",
       " Max.   :96.32   Max.   :28.290   Max.   :99.90   Max.   :26.00  \n",
       "                                                                 \n",
       "      RH_7             T8             RH_8             T9       \n",
       " Min.   :23.20   Min.   :16.31   Min.   :29.60   Min.   :14.89  \n",
       " 1st Qu.:31.50   1st Qu.:20.79   1st Qu.:39.07   1st Qu.:18.00  \n",
       " Median :34.86   Median :22.10   Median :42.38   Median :19.39  \n",
       " Mean   :35.39   Mean   :22.03   Mean   :42.94   Mean   :19.49  \n",
       " 3rd Qu.:39.00   3rd Qu.:23.39   3rd Qu.:46.54   3rd Qu.:20.60  \n",
       " Max.   :51.40   Max.   :27.23   Max.   :58.78   Max.   :24.50  \n",
       "                                                                \n",
       "      RH_9           T_out         Press_mm_hg        RH_out      \n",
       " Min.   :29.17   Min.   :-5.000   Min.   :729.3   Min.   : 24.00  \n",
       " 1st Qu.:38.50   1st Qu.: 3.667   1st Qu.:750.9   1st Qu.: 70.33  \n",
       " Median :40.90   Median : 6.917   Median :756.1   Median : 83.67  \n",
       " Mean   :41.55   Mean   : 7.412   Mean   :755.5   Mean   : 79.75  \n",
       " 3rd Qu.:44.34   3rd Qu.:10.408   3rd Qu.:760.9   3rd Qu.: 91.67  \n",
       " Max.   :53.33   Max.   :26.100   Max.   :772.3   Max.   :100.00  \n",
       "                                                                  \n",
       "   Windspeed        Visibility      Tdewpoint           rv1          \n",
       " Min.   : 0.000   Min.   : 1.00   Min.   :-6.600   Min.   : 0.00532  \n",
       " 1st Qu.: 2.000   1st Qu.:29.00   1st Qu.: 0.900   1st Qu.:12.49789  \n",
       " Median : 3.667   Median :40.00   Median : 3.433   Median :24.89765  \n",
       " Mean   : 4.040   Mean   :38.33   Mean   : 3.761   Mean   :24.98803  \n",
       " 3rd Qu.: 5.500   3rd Qu.:40.00   3rd Qu.: 6.567   3rd Qu.:37.58377  \n",
       " Max.   :14.000   Max.   :66.00   Max.   :15.500   Max.   :49.99653  \n",
       "                                                                     \n",
       "      rv2          \n",
       " Min.   : 0.00532  \n",
       " 1st Qu.:12.49789  \n",
       " Median :24.89765  \n",
       " Mean   :24.98803  \n",
       " 3rd Qu.:37.58377  \n",
       " Max.   :49.99653  \n",
       "                   "
      ]
     },
     "metadata": {},
     "output_type": "display_data"
    }
   ],
   "source": [
    "#statistical summary\n",
    "summary(df)"
   ]
  },
  {
   "cell_type": "markdown",
   "metadata": {},
   "source": [
    "# Modelling"
   ]
  },
  {
   "cell_type": "markdown",
   "metadata": {},
   "source": [
    "## Feature Selection"
   ]
  },
  {
   "cell_type": "code",
   "execution_count": 23,
   "metadata": {},
   "outputs": [],
   "source": [
    "#subset\n",
    "\n",
    "set.seed(10)\n",
    "#taking sample of 10 rows from the dataset. \n",
    "x<- df[sample(nrow(df), 1000), ]"
   ]
  },
  {
   "cell_type": "code",
   "execution_count": 25,
   "metadata": {},
   "outputs": [
    {
     "name": "stderr",
     "output_type": "stream",
     "text": [
      " 1. run of importance source...\n",
      " 2. run of importance source...\n",
      " 3. run of importance source...\n",
      " 4. run of importance source...\n",
      " 5. run of importance source...\n",
      " 6. run of importance source...\n",
      " 7. run of importance source...\n",
      " 8. run of importance source...\n",
      " 9. run of importance source...\n",
      " 10. run of importance source...\n",
      " 11. run of importance source...\n",
      " 12. run of importance source...\n",
      "After 12 iterations, +21 secs: \n",
      " confirmed 2 attributes: RH_7, rv2;\n",
      " rejected 1 attribute: Appliances;\n",
      " still have 25 attributes left.\n",
      "\n",
      " 13. run of importance source...\n",
      " 14. run of importance source...\n",
      " 15. run of importance source...\n",
      " 16. run of importance source...\n",
      "After 16 iterations, +32 secs: \n",
      " confirmed 2 attributes: RH_4, T8;\n",
      " rejected 2 attributes: Visibility, Windspeed;\n",
      " still have 21 attributes left.\n",
      "\n",
      " 17. run of importance source...\n",
      " 18. run of importance source...\n",
      " 19. run of importance source...\n",
      " 20. run of importance source...\n",
      "After 20 iterations, +38 secs: \n",
      " confirmed 1 attribute: T5;\n",
      " rejected 1 attribute: lights;\n",
      " still have 19 attributes left.\n",
      "\n",
      " 21. run of importance source...\n",
      " 22. run of importance source...\n",
      " 23. run of importance source...\n",
      "After 23 iterations, +43 secs: \n",
      " confirmed 1 attribute: T1;\n",
      " rejected 1 attribute: RH_out;\n",
      " still have 17 attributes left.\n",
      "\n",
      " 24. run of importance source...\n",
      " 25. run of importance source...\n",
      " 26. run of importance source...\n",
      " 27. run of importance source...\n",
      " 28. run of importance source...\n",
      " 29. run of importance source...\n",
      "After 29 iterations, +51 secs: \n",
      " confirmed 1 attribute: Tdewpoint;\n",
      " still have 16 attributes left.\n",
      "\n",
      " 30. run of importance source...\n",
      " 31. run of importance source...\n",
      " 32. run of importance source...\n",
      "After 32 iterations, +56 secs: \n",
      " confirmed 1 attribute: RH_1;\n",
      " still have 15 attributes left.\n",
      "\n",
      " 33. run of importance source...\n",
      " 34. run of importance source...\n",
      " 35. run of importance source...\n",
      "After 35 iterations, +1 mins: \n",
      " confirmed 2 attributes: T_out, T3;\n",
      " still have 13 attributes left.\n",
      "\n",
      " 36. run of importance source...\n",
      " 37. run of importance source...\n",
      " 38. run of importance source...\n",
      " 39. run of importance source...\n",
      " 40. run of importance source...\n",
      "After 40 iterations, +1.1 mins: \n",
      " confirmed 1 attribute: RH_8;\n",
      " still have 12 attributes left.\n",
      "\n",
      " 41. run of importance source...\n",
      " 42. run of importance source...\n",
      " 43. run of importance source...\n",
      "After 43 iterations, +1.2 mins: \n",
      " confirmed 1 attribute: RH_9;\n",
      " still have 11 attributes left.\n",
      "\n",
      " 44. run of importance source...\n",
      " 45. run of importance source...\n",
      " 46. run of importance source...\n",
      " 47. run of importance source...\n",
      " 48. run of importance source...\n",
      " 49. run of importance source...\n",
      " 50. run of importance source...\n",
      " 51. run of importance source...\n",
      " 52. run of importance source...\n",
      " 53. run of importance source...\n",
      " 54. run of importance source...\n",
      " 55. run of importance source...\n",
      " 56. run of importance source...\n",
      "After 56 iterations, +1.5 mins: \n",
      " confirmed 2 attributes: T2, T6;\n",
      " still have 9 attributes left.\n",
      "\n",
      " 57. run of importance source...\n",
      " 58. run of importance source...\n",
      " 59. run of importance source...\n",
      " 60. run of importance source...\n",
      " 61. run of importance source...\n",
      " 62. run of importance source...\n",
      "After 62 iterations, +1.7 mins: \n",
      " confirmed 1 attribute: RH_2;\n",
      " still have 8 attributes left.\n",
      "\n",
      " 63. run of importance source...\n",
      " 64. run of importance source...\n",
      " 65. run of importance source...\n",
      " 66. run of importance source...\n",
      " 67. run of importance source...\n",
      " 68. run of importance source...\n",
      " 69. run of importance source...\n",
      "After 69 iterations, +1.8 mins: \n",
      " confirmed 1 attribute: T9;\n",
      " still have 7 attributes left.\n",
      "\n",
      " 70. run of importance source...\n",
      " 71. run of importance source...\n",
      " 72. run of importance source...\n",
      "After 72 iterations, +1.9 mins: \n",
      " confirmed 1 attribute: T7;\n",
      " still have 6 attributes left.\n",
      "\n",
      " 73. run of importance source...\n",
      " 74. run of importance source...\n",
      " 75. run of importance source...\n",
      " 76. run of importance source...\n",
      " 77. run of importance source...\n",
      " 78. run of importance source...\n",
      " 79. run of importance source...\n",
      " 80. run of importance source...\n",
      " 81. run of importance source...\n",
      " 82. run of importance source...\n",
      "After 82 iterations, +2.1 mins: \n",
      " confirmed 1 attribute: RH_6;\n",
      " still have 5 attributes left.\n",
      "\n",
      " 83. run of importance source...\n",
      " 84. run of importance source...\n",
      " 85. run of importance source...\n",
      " 86. run of importance source...\n",
      " 87. run of importance source...\n",
      "After 87 iterations, +2.2 mins: \n",
      " confirmed 1 attribute: date;\n",
      " still have 4 attributes left.\n",
      "\n",
      " 88. run of importance source...\n",
      " 89. run of importance source...\n",
      "After 89 iterations, +2.3 mins: \n",
      " confirmed 1 attribute: T4;\n",
      " still have 3 attributes left.\n",
      "\n",
      " 90. run of importance source...\n",
      " 91. run of importance source...\n",
      " 92. run of importance source...\n",
      " 93. run of importance source...\n",
      " 94. run of importance source...\n",
      " 95. run of importance source...\n",
      " 96. run of importance source...\n",
      "After 96 iterations, +2.4 mins: \n",
      " confirmed 1 attribute: RH_3;\n",
      " still have 2 attributes left.\n",
      "\n",
      " 97. run of importance source...\n",
      " 98. run of importance source...\n",
      " 99. run of importance source...\n"
     ]
    }
   ],
   "source": [
    "boruta.df <- Boruta(rv1~., data = x, doTrace = 2)"
   ]
  },
  {
   "cell_type": "code",
   "execution_count": 26,
   "metadata": {},
   "outputs": [
    {
     "name": "stdout",
     "output_type": "stream",
     "text": [
      "Boruta performed 99 iterations in 2.51405 mins.\n",
      " 21 attributes confirmed important: date, RH_1, RH_2, RH_3, RH_4 and 16\n",
      "more;\n",
      " 5 attributes confirmed unimportant: Appliances, lights, RH_out,\n",
      "Visibility, Windspeed;\n",
      " 2 tentative attributes left: Press_mm_hg, RH_5;\n"
     ]
    }
   ],
   "source": [
    "print(boruta.df)"
   ]
  },
  {
   "cell_type": "code",
   "execution_count": 27,
   "metadata": {},
   "outputs": [
    {
     "data": {
      "image/png": "[encoded data removed]",
      "text/plain": [
       "plot without title"
      ]
     },
     "metadata": {},
     "output_type": "display_data"
    }
   ],
   "source": [
    "plot(boruta.df, xlab = \"\", xaxt = \"n\")\n",
    "lz<-lapply(1:ncol(boruta.df$ImpHistory),function(i)\n",
    "boruta.df$ImpHistory[is.finite(boruta.df$ImpHistory[,i]),i])\n",
    "names(lz) <- colnames(boruta.df$ImpHistory)\n",
    "Labels <- sort(sapply(lz,median))\n",
    "axis(side = 1,las=2,labels = names(Labels),\n",
    "at = 1:ncol(boruta.df$ImpHistory), cex.axis = 0.7)"
   ]
  },
  {
   "cell_type": "markdown",
   "metadata": {},
   "source": [
    "## Linear Regression"
   ]
  },
  {
   "cell_type": "code",
   "execution_count": 39,
   "metadata": {},
   "outputs": [
    {
     "ename": "ERROR",
     "evalue": "Error in -c(\"shadowMin\", \"Appliances\", \"shadowMean\", \"Windspeed\"): invalid argument to unary operator\n",
     "output_type": "error",
     "traceback": [
      "Error in -c(\"shadowMin\", \"Appliances\", \"shadowMean\", \"Windspeed\"): invalid argument to unary operator\nTraceback:\n",
      "1. df[-c(\"shadowMin\", \"Appliances\", \"shadowMean\", \"Windspeed\")]",
      "2. `[.data.frame`(df, -c(\"shadowMin\", \"Appliances\", \"shadowMean\", \n .     \"Windspeed\"))"
     ]
    }
   ],
   "source": [
    "df <- select[df,-c('shadowMin','Appliances','shadowMean','Windspeed')]"
   ]
  },
  {
   "cell_type": "code",
   "execution_count": 35,
   "metadata": {},
   "outputs": [],
   "source": [
    "linearmodel <- lm(rv1~RH_7+T5+T1,data=df)"
   ]
  },
  {
   "cell_type": "code",
   "execution_count": 36,
   "metadata": {},
   "outputs": [
    {
     "data": {
      "text/plain": [
       "\n",
       "Call:\n",
       "lm(formula = rv1 ~ RH_7 + T5 + T1, data = df)\n",
       "\n",
       "Residuals:\n",
       "     Min       1Q   Median       3Q      Max \n",
       "-25.1712 -12.4958  -0.1026  12.5825  25.1745 \n",
       "\n",
       "Coefficients:\n",
       "             Estimate Std. Error t value Pr(>|t|)    \n",
       "(Intercept) 25.994485   1.530654  16.983   <2e-16 ***\n",
       "RH_7         0.007706   0.020407   0.378    0.706    \n",
       "T5          -0.002852   0.120527  -0.024    0.981    \n",
       "T1          -0.056407   0.138154  -0.408    0.683    \n",
       "---\n",
       "Signif. codes:  0 '***' 0.001 '**' 0.01 '*' 0.05 '.' 0.1 ' ' 1\n",
       "\n",
       "Residual standard error: 14.5 on 19731 degrees of freedom\n",
       "Multiple R-squared:  4.57e-05,\tAdjusted R-squared:  -0.0001063 \n",
       "F-statistic: 0.3006 on 3 and 19731 DF,  p-value: 0.825\n"
      ]
     },
     "metadata": {},
     "output_type": "display_data"
    }
   ],
   "source": [
    "summary(linearmodel)"
   ]
  },
  {
   "cell_type": "markdown",
   "metadata": {},
   "source": [
    "## Ridge Regression"
   ]
  },
  {
   "cell_type": "code",
   "execution_count": 16,
   "metadata": {},
   "outputs": [],
   "source": [
    "library(glmnet)"
   ]
  },
  {
   "cell_type": "code",
   "execution_count": 19,
   "metadata": {},
   "outputs": [],
   "source": [
    "y <- df$rv1\n",
    "x <- data.matrix(df[, c('T5','RH_5')])\n",
    "model <- glmnet(x, y, alpha = 0)"
   ]
  },
  {
   "cell_type": "code",
   "execution_count": 20,
   "metadata": {},
   "outputs": [
    {
     "data": {
      "text/plain": [
       "          Length Class     Mode   \n",
       "a0         80    -none-    numeric\n",
       "beta      160    dgCMatrix S4     \n",
       "df         80    -none-    numeric\n",
       "dim         2    -none-    numeric\n",
       "lambda     80    -none-    numeric\n",
       "dev.ratio  80    -none-    numeric\n",
       "nulldev     1    -none-    numeric\n",
       "npasses     1    -none-    numeric\n",
       "jerr        1    -none-    numeric\n",
       "offset      1    -none-    logical\n",
       "call        4    -none-    call   \n",
       "nobs        1    -none-    numeric"
      ]
     },
     "metadata": {},
     "output_type": "display_data"
    }
   ],
   "source": [
    "summary(model)"
   ]
  },
  {
   "cell_type": "code",
   "execution_count": 21,
   "metadata": {},
   "outputs": [
    {
     "data": {
      "image/png": "[encoded data removed]",
      "text/plain": [
       "plot without title"
      ]
     },
     "metadata": {},
     "output_type": "display_data"
    }
   ],
   "source": [
    "plot(model)"
   ]
  },
  {
   "cell_type": "code",
   "execution_count": 22,
   "metadata": {},
   "outputs": [
    {
     "name": "stderr",
     "output_type": "stream",
     "text": [
      "   [[ suppressing 80 column names 's0', 's1', 's2' ... ]]\n"
     ]
    },
    {
     "data": {
      "text/plain": [
       "3 x 80 sparse Matrix of class \"dgCMatrix\"\n",
       "                                                                             \n",
       "(Intercept)  2.498803e+01 25.145528764 25.159321064 25.174173751 25.190142079\n",
       "T5          -4.358270e-38 -0.003873030 -0.004211333 -0.004575488 -0.004966813\n",
       "RH_5        -1.794462e-38 -0.001601877 -0.001742492 -0.001893978 -0.002056913\n",
       "                                                                            \n",
       "(Intercept) 25.207279534 25.225636863 25.245260990 25.266193826 25.288470985\n",
       "T5          -0.005386578 -0.005835979 -0.006316113 -0.006827948 -0.007372291\n",
       "RH_5        -0.002231860 -0.002419352 -0.002619891 -0.002833925 -0.003061845\n",
       "                                                                           \n",
       "(Intercept) 25.312120430 25.337161085 25.363601432 25.391438161 25.42065490\n",
       "T5          -0.007949756 -0.008560728 -0.009205335 -0.009883408 -0.01059446\n",
       "RH_5        -0.003303962 -0.003560500 -0.003831576 -0.004117190 -0.00441721\n",
       "                                                                            \n",
       "(Intercept) 25.451221111 25.483091177 25.516203775 25.550481569 25.585831281\n",
       "T5          -0.011337646 -0.012111768 -0.012915236 -0.013746075 -0.014601931\n",
       "RH_5        -0.004731357 -0.005059201 -0.005400147 -0.005753438 -0.006118147\n",
       "                                                                          \n",
       "(Intercept) 25.622144174 25.65929697 25.697153237 25.73556512 25.774375551\n",
       "T5          -0.015480082 -0.01637746 -0.017290704 -0.01821618 -0.019150045\n",
       "RH_5        -0.006493188 -0.00687732 -0.007269159 -0.00766720 -0.008069836\n",
       "                                                                          \n",
       "(Intercept) 25.81342072 25.852532784 25.891542754 25.930283397 25.96859208\n",
       "T5          -0.02008833 -0.021026980 -0.021961931 -0.022889187 -0.02380488\n",
       "RH_5        -0.00847538 -0.008882097 -0.009288232 -0.009692041 -0.01009182\n",
       "                                                                       \n",
       "(Intercept) 26.00631347 26.04330192 26.07942359 26.11455815 26.14860002\n",
       "T5          -0.02470534 -0.02558715 -0.02644718 -0.02728265 -0.02809114\n",
       "RH_5        -0.01048592 -0.01087282 -0.01125107 -0.01161940 -0.01197666\n",
       "                                                                       \n",
       "(Intercept) 26.18145921 26.21306173 26.24334956 26.27228031 26.29982647\n",
       "T5          -0.02887059 -0.02961936 -0.03033617 -0.03102012 -0.03167066\n",
       "RH_5        -0.01232186 -0.01265420 -0.01297303 -0.01327786 -0.01356836\n",
       "                                                                       \n",
       "(Intercept) 26.32597449 26.35072363 26.37408466 26.39607852 26.41673488\n",
       "T5          -0.03228757 -0.03287092 -0.03342105 -0.03393855 -0.03442419\n",
       "RH_5        -0.01384435 -0.01410579 -0.01435275 -0.01458543 -0.01480412\n",
       "                                                                       \n",
       "(Intercept) 26.43609078 26.45418929 26.47107822 26.48680899 26.50143553\n",
       "T5          -0.03487890 -0.03530378 -0.03569999 -0.03606881 -0.03641153\n",
       "RH_5        -0.01500916 -0.01520101 -0.01538013 -0.01554706 -0.01570235\n",
       "                                                                       \n",
       "(Intercept) 26.51501335 26.52759872 26.53924793 26.55001673 26.55995981\n",
       "T5          -0.03672951 -0.03702410 -0.03729665 -0.03754849 -0.03778092\n",
       "RH_5        -0.01584657 -0.01598031 -0.01610414 -0.01621866 -0.01632444\n",
       "                                                                       \n",
       "(Intercept) 26.56913036 26.57757984 26.58535766 26.59251105 26.59908493\n",
       "T5          -0.03799522 -0.03819260 -0.03837423 -0.03854123 -0.03869466\n",
       "RH_5        -0.01642203 -0.01651197 -0.01659478 -0.01667097 -0.01674099\n",
       "                                                                       \n",
       "(Intercept) 26.60512186 26.61066199 26.61574308 26.62040055 26.62466752\n",
       "T5          -0.03883552 -0.03896476 -0.03908327 -0.03919188 -0.03929136\n",
       "RH_5        -0.01680531 -0.01686435 -0.01691851 -0.01696816 -0.01701366\n",
       "                                                                       \n",
       "(Intercept) 26.62857488 26.63215139 26.63542377 26.63841680 26.64115341\n",
       "T5          -0.03938245 -0.03946580 -0.03954207 -0.03961181 -0.03967557\n",
       "RH_5        -0.01705532 -0.01709346 -0.01712837 -0.01716029 -0.01718949\n",
       "                                                                       \n",
       "(Intercept) 26.64365482 26.64594060 26.64802882 26.64993612 26.65167779\n",
       "T5          -0.03973384 -0.03978709 -0.03983573 -0.03988015 -0.03992071\n",
       "RH_5        -0.01721617 -0.01724056 -0.01726284 -0.01728320 -0.01730178\n",
       "                                                                       \n",
       "(Intercept) 26.65326792 26.65471943 26.65604419 26.65725310 26.65835614\n",
       "T5          -0.03995774 -0.03999154 -0.04002239 -0.04005053 -0.04007621\n",
       "RH_5        -0.01731875 -0.01733425 -0.01734839 -0.01736129 -0.01737306"
      ]
     },
     "metadata": {},
     "output_type": "display_data"
    }
   ],
   "source": [
    "coef(model)"
   ]
  }
 ],
 "metadata": {
  "kernelspec": {
   "display_name": "R",
   "language": "R",
   "name": "ir"
  },
  "language_info": {
   "codemirror_mode": "r",
   "file_extension": ".r",
   "mimetype": "text/x-r-source",
   "name": "R",
   "pygments_lexer": "r",
   "version": "3.6.1"
  }
 },
 "nbformat": 4,
 "nbformat_minor": 2
}
