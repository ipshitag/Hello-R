{
  "nbformat": 4,
  "nbformat_minor": 0,
  "metadata": {
    "colab": {
      "name": "genre_classifiction(CNN).ipynb",
      "provenance": []
    },
    "kernelspec": {
      "name": "python3",
      "display_name": "Python 3"
    },
    "language_info": {
      "name": "python"
    }
  },
  "cells": [
    {
      "cell_type": "code",
      "metadata": {
        "id": "dSTuko0vvPzF"
      },
      "source": [
        "#import libraries\n",
        "import json\n",
        "import numpy as np\n",
        "from sklearn.model_selection import train_test_split\n",
        "import tensorflow.keras as keras\n",
        "import matplotlib.pyplot as plt"
      ],
      "execution_count": 5,
      "outputs": []
    },
    {
      "cell_type": "code",
      "metadata": {
        "id": "tisUXwwqvSJc"
      },
      "source": [
        "DATA_PATH = \"/content/drive/MyDrive/audio_data.json\""
      ],
      "execution_count": 6,
      "outputs": []
    },
    {
      "cell_type": "code",
      "metadata": {
        "id": "1Ifh-OyPvovH"
      },
      "source": [
        "# plan\n",
        "\n",
        "#create train, validation and test set\n",
        "#build the CNN net\n",
        "#compile the network\n",
        "#train the CNN\n",
        "#evaluate the CNN on the test set\n",
        "#make predictions on a sample"
      ],
      "execution_count": null,
      "outputs": []
    },
    {
      "cell_type": "code",
      "metadata": {
        "id": "lxuQ1Ez_vIwb"
      },
      "source": [
        "def load_data(data_path):\n",
        "    \"\"\"Loads training dataset from json file.\n",
        "        :param data_path (str): Path to json file containing data\n",
        "        :return X (ndarray): Inputs\n",
        "        :return y (ndarray): Targets\n",
        "    \"\"\"\n",
        "\n",
        "    with open(data_path, \"r\") as fp:\n",
        "        data = json.load(fp)\n",
        "\n",
        "    X = np.array(data[\"mfcc\"])\n",
        "    y = np.array(data[\"labels\"])\n",
        "    return X, y"
      ],
      "execution_count": 7,
      "outputs": []
    },
    {
      "cell_type": "code",
      "metadata": {
        "id": "1P9KW-WiviiL"
      },
      "source": [
        "def plot_history(history):\n",
        "    \"\"\"Plots accuracy/loss for training/validation set as a function of the epochs\n",
        "        :param history: Training history of model\n",
        "        :return:\n",
        "    \"\"\"\n",
        "\n",
        "    fig, axs = plt.subplots(2)\n",
        "    fig.tight_layout()\n",
        "\n",
        "    # create accuracy sublpot\n",
        "    axs[0].plot(history.history[\"accuracy\"], label=\"train accuracy\")\n",
        "    axs[0].plot(history.history[\"val_accuracy\"], label=\"test accuracy\")\n",
        "    axs[0].set_ylabel(\"Accuracy\")\n",
        "    axs[0].legend(loc = \"upper left\")\n",
        "    axs[0].set_title(\"Accuracy eval\")\n",
        "\n",
        "\n",
        "    # create error sublpot\n",
        "    axs[1].plot(history.history[\"loss\"], label=\"train error\")\n",
        "    axs[1].plot(history.history[\"val_loss\"], label=\"test error\")\n",
        "    axs[1].set_ylabel(\"Error\")\n",
        "    axs[1].set_xlabel(\"Epoch\")\n",
        "    axs[1].legend(loc=\"lower left\")\n",
        "    axs[1].set_title(\"Error eval\")\n",
        "\n",
        "    plt.show()"
      ],
      "execution_count": 24,
      "outputs": []
    },
    {
      "cell_type": "code",
      "metadata": {
        "id": "8T9HVRME1ePV"
      },
      "source": [
        "def prepare_dataset(test_size,validation_size):\n",
        "    \"\"\"Splits the data into training, testing and validation sets\n",
        "        :param test_size: percentage of data as test data\n",
        "        :param validation_size: percentage of data as validation data\n",
        "        :return X_train(ndarray) : training data on Input\n",
        "        :return y_train(ndarray) : training data on Output\n",
        "        :return X_test(ndarray) : test data on Input\n",
        "        :return y_test(ndarray) : test data on Output\n",
        "        :return X_validation(ndarray) : validation set of Input\n",
        "        :return y_validation(ndarray) : validation set of Output\n",
        "    \"\"\"\n",
        "\n",
        "  #load data\n",
        "  X,y = load_data(DATA_PATH)\n",
        "\n",
        "  # create train/test split\n",
        "  X_train, X_test, y_train, y_test = train_test_split(X,y,test_size=test_size)\n",
        "\n",
        "  # create train/validation split\n",
        "  X_train, X_validation, y_train, y_validation = train_test_split(X_train,y_train,test_size=validation_size)\n",
        "\n",
        "  #add extra dimension\n",
        "  X_train = X_train[...,np.newaxis] #4d array\n",
        "  X_validation = X_validation[...,np.newaxis]\n",
        "  X_test = X_test[...,np.newaxis]\n",
        "\n",
        "  #return\n",
        "  return X_train, X_validation, X_test, y_train, y_validation, y_test\n"
      ],
      "execution_count": 12,
      "outputs": []
    },
    {
      "cell_type": "code",
      "metadata": {
        "id": "d3E-7wLHBN5i"
      },
      "source": [
        "def build_model(input_shape):\n",
        "  \"\"\"builds a convulational network with three layers\n",
        "     :param input_shape: the shape of the input as 3 dimensions\n",
        "     :return model: the CNN model\n",
        "  \"\"\"\n",
        "  #create model\n",
        "  model = keras.Sequential()\n",
        "  \n",
        "  #1st conv layer\n",
        "  model.add(keras.layers.Conv2D(32, #number of kernels\n",
        "                               (3,3), #size of kernel\n",
        "                                activation = 'relu',\n",
        "                                input_shape = input_shape))\n",
        "  \n",
        "  model.add(keras.layers.MaxPool2D((3,3), #size\n",
        "                                   strides = (2,2),\n",
        "                                   padding = 'same'))\n",
        "  \n",
        "  model.add(keras.layers.BatchNormalization())\n",
        "\n",
        "  #2nd conv layer\n",
        "  model.add(keras.layers.Conv2D(32, #number of kernels\n",
        "                               (3,3), #size of kernel\n",
        "                                activation = 'relu',\n",
        "                                input_shape = input_shape))\n",
        "  \n",
        "  model.add(keras.layers.MaxPool2D((3,3), #size\n",
        "                                   strides = (2,2),\n",
        "                                   padding = 'same'))\n",
        "  \n",
        "  model.add(keras.layers.BatchNormalization())\n",
        "\n",
        "  #3rd conv layer\n",
        "  model.add(keras.layers.Conv2D(32, #number of kernels\n",
        "                               (2,2), #size of kernel\n",
        "                                activation = 'relu',\n",
        "                                input_shape = input_shape))\n",
        "  \n",
        "  model.add(keras.layers.MaxPool2D((2,2), #size\n",
        "                                   strides = (2,2),\n",
        "                                   padding = 'same'))\n",
        "  \n",
        "  model.add(keras.layers.BatchNormalization())\n",
        "\n",
        "  #flatten the output and feed it into dense layer\n",
        "  model.add(keras.layers.Flatten())\n",
        "  model.add(keras.layers.Dense(64, \n",
        "                               activation='relu'))\n",
        "  model.add(keras.layers.Dropout(0.3))\n",
        "\n",
        "  #outut layer\n",
        "  model.add(keras.layers.Dense(10, activation = 'softmax'))\n",
        "\n",
        "  #return model\n",
        "  return model"
      ],
      "execution_count": 10,
      "outputs": []
    },
    {
      "cell_type": "code",
      "metadata": {
        "id": "KeUd-r2cODP2"
      },
      "source": [
        "def predict(X,y,model):\n",
        "  \"\"\"Predicts on a single data \n",
        "    param X: Input data\n",
        "    param y: true output of given data\n",
        "  \"\"\"\n",
        "  \n",
        "  X = X[np.newaxis, ...]\n",
        "  prediction = model.predict(X) \n",
        "\n",
        "  #extract index with max value\n",
        "  predicted_index = np.argmax(prediction, axis=1)\n",
        "\n",
        "  print(\"Expected  index: {}, predicted index: {}\".format(y,predicted_index))"
      ],
      "execution_count": 28,
      "outputs": []
    },
    {
      "cell_type": "code",
      "metadata": {
        "id": "hX85p98n0nbT"
      },
      "source": [
        "#create train, validation and test set \n",
        "X_train, X_validation, X_test, y_train, y_validation, y_test = prepare_dataset(0.25,0.2)"
      ],
      "execution_count": 13,
      "outputs": []
    },
    {
      "cell_type": "code",
      "metadata": {
        "id": "o1NNuVeB1hC9"
      },
      "source": [
        "#build the CNN net\n",
        "input_shape = (X_train.shape[1], X_train.shape[2], X_train.shape[3])\n",
        "model = build_model(input_shape)"
      ],
      "execution_count": 14,
      "outputs": []
    },
    {
      "cell_type": "code",
      "metadata": {
        "id": "0n6wcVouGcyc"
      },
      "source": [
        "#compile the network\n",
        "optimizer = keras.optimizers.Adam(learning_rate=0.0001)\n",
        "model.compile(optimizer=optimizer,\n",
        "              loss = \"sparse_categorical_crossentropy\",\n",
        "              metrics = ['accuracy'])"
      ],
      "execution_count": 15,
      "outputs": []
    },
    {
      "cell_type": "code",
      "metadata": {
        "colab": {
          "base_uri": "https://localhost:8080/"
        },
        "id": "Yf8Fo5p3G54J",
        "outputId": "df523988-2d69-405c-a7e9-9937e04f477f"
      },
      "source": [
        "#train the CNN\n",
        "history = model.fit(X_train, y_train, \n",
        "          validation_data = (X_validation, y_validation), \n",
        "          batch_size = 32, epochs = 30)"
      ],
      "execution_count": 18,
      "outputs": [
        {
          "output_type": "stream",
          "text": [
            "Epoch 1/30\n",
            "188/188 [==============================] - 11s 59ms/step - loss: 0.7372 - accuracy: 0.7424 - val_loss: 0.8442 - val_accuracy: 0.7020\n",
            "Epoch 2/30\n",
            "188/188 [==============================] - 11s 59ms/step - loss: 0.7258 - accuracy: 0.7462 - val_loss: 0.8446 - val_accuracy: 0.7067\n",
            "Epoch 3/30\n",
            "188/188 [==============================] - 11s 59ms/step - loss: 0.7026 - accuracy: 0.7575 - val_loss: 0.8356 - val_accuracy: 0.7013\n",
            "Epoch 4/30\n",
            "188/188 [==============================] - 11s 58ms/step - loss: 0.6967 - accuracy: 0.7562 - val_loss: 0.8391 - val_accuracy: 0.7093\n",
            "Epoch 5/30\n",
            "188/188 [==============================] - 10s 56ms/step - loss: 0.6726 - accuracy: 0.7639 - val_loss: 0.8193 - val_accuracy: 0.7060\n",
            "Epoch 6/30\n",
            "188/188 [==============================] - 10s 53ms/step - loss: 0.6714 - accuracy: 0.7734 - val_loss: 0.8374 - val_accuracy: 0.7127\n",
            "Epoch 7/30\n",
            "188/188 [==============================] - 10s 54ms/step - loss: 0.6616 - accuracy: 0.7654 - val_loss: 0.8226 - val_accuracy: 0.7093\n",
            "Epoch 8/30\n",
            "188/188 [==============================] - 11s 58ms/step - loss: 0.6441 - accuracy: 0.7771 - val_loss: 0.8242 - val_accuracy: 0.7100\n",
            "Epoch 9/30\n",
            "188/188 [==============================] - 11s 59ms/step - loss: 0.6356 - accuracy: 0.7736 - val_loss: 0.8338 - val_accuracy: 0.7140\n",
            "Epoch 10/30\n",
            "188/188 [==============================] - 11s 56ms/step - loss: 0.6359 - accuracy: 0.7792 - val_loss: 0.8252 - val_accuracy: 0.7153\n",
            "Epoch 11/30\n",
            "188/188 [==============================] - 11s 58ms/step - loss: 0.6191 - accuracy: 0.7827 - val_loss: 0.8119 - val_accuracy: 0.7240\n",
            "Epoch 12/30\n",
            "188/188 [==============================] - 11s 57ms/step - loss: 0.5985 - accuracy: 0.7927 - val_loss: 0.8096 - val_accuracy: 0.7160\n",
            "Epoch 13/30\n",
            "188/188 [==============================] - 11s 58ms/step - loss: 0.5951 - accuracy: 0.7959 - val_loss: 0.8115 - val_accuracy: 0.7240\n",
            "Epoch 14/30\n",
            "188/188 [==============================] - 11s 58ms/step - loss: 0.5851 - accuracy: 0.8006 - val_loss: 0.8396 - val_accuracy: 0.7153\n",
            "Epoch 15/30\n",
            "188/188 [==============================] - 11s 57ms/step - loss: 0.6005 - accuracy: 0.7931 - val_loss: 0.8247 - val_accuracy: 0.7160\n",
            "Epoch 16/30\n",
            "188/188 [==============================] - 11s 57ms/step - loss: 0.5520 - accuracy: 0.8096 - val_loss: 0.8194 - val_accuracy: 0.7240\n",
            "Epoch 17/30\n",
            "188/188 [==============================] - 11s 56ms/step - loss: 0.5510 - accuracy: 0.8059 - val_loss: 0.8036 - val_accuracy: 0.7160\n",
            "Epoch 18/30\n",
            "188/188 [==============================] - 10s 55ms/step - loss: 0.5428 - accuracy: 0.8184 - val_loss: 0.8093 - val_accuracy: 0.7280\n",
            "Epoch 19/30\n",
            "188/188 [==============================] - 11s 56ms/step - loss: 0.5394 - accuracy: 0.8131 - val_loss: 0.7969 - val_accuracy: 0.7260\n",
            "Epoch 20/30\n",
            "188/188 [==============================] - 10s 55ms/step - loss: 0.5317 - accuracy: 0.8164 - val_loss: 0.7912 - val_accuracy: 0.7247\n",
            "Epoch 21/30\n",
            "188/188 [==============================] - 11s 56ms/step - loss: 0.5164 - accuracy: 0.8254 - val_loss: 0.7930 - val_accuracy: 0.7307\n",
            "Epoch 22/30\n",
            "188/188 [==============================] - 11s 58ms/step - loss: 0.5097 - accuracy: 0.8252 - val_loss: 0.8209 - val_accuracy: 0.7253\n",
            "Epoch 23/30\n",
            "188/188 [==============================] - 11s 59ms/step - loss: 0.5107 - accuracy: 0.8242 - val_loss: 0.8094 - val_accuracy: 0.7307\n",
            "Epoch 24/30\n",
            "188/188 [==============================] - 11s 58ms/step - loss: 0.4985 - accuracy: 0.8274 - val_loss: 0.7841 - val_accuracy: 0.7367\n",
            "Epoch 25/30\n",
            "188/188 [==============================] - 11s 57ms/step - loss: 0.4874 - accuracy: 0.8294 - val_loss: 0.7892 - val_accuracy: 0.7300\n",
            "Epoch 26/30\n",
            "188/188 [==============================] - 11s 57ms/step - loss: 0.4871 - accuracy: 0.8286 - val_loss: 0.7905 - val_accuracy: 0.7400\n",
            "Epoch 27/30\n",
            "188/188 [==============================] - 11s 56ms/step - loss: 0.4615 - accuracy: 0.8426 - val_loss: 0.7986 - val_accuracy: 0.7293\n",
            "Epoch 28/30\n",
            "188/188 [==============================] - 11s 58ms/step - loss: 0.4676 - accuracy: 0.8408 - val_loss: 0.8151 - val_accuracy: 0.7300\n",
            "Epoch 29/30\n",
            "188/188 [==============================] - 11s 57ms/step - loss: 0.4587 - accuracy: 0.8384 - val_loss: 0.8514 - val_accuracy: 0.7167\n",
            "Epoch 30/30\n",
            "188/188 [==============================] - 11s 57ms/step - loss: 0.4420 - accuracy: 0.8433 - val_loss: 0.8354 - val_accuracy: 0.7133\n"
          ],
          "name": "stdout"
        }
      ]
    },
    {
      "cell_type": "code",
      "metadata": {
        "colab": {
          "base_uri": "https://localhost:8080/"
        },
        "id": "-IHoFNc0HVc8",
        "outputId": "b03e47e0-b608-4612-d038-3afb7d0ac9de"
      },
      "source": [
        "#evaluate the CNN on the test set\n",
        "test_error, test_accuracy = model.evaluate(X_test, y_test, verbose = 1)\n",
        "print(\"Accuracy on test set is {}\".format(test_accuracy))\n",
        "print(\"Error on test set is {}\".format(test_error))"
      ],
      "execution_count": 17,
      "outputs": [
        {
          "output_type": "stream",
          "text": [
            "79/79 [==============================] - 1s 15ms/step - loss: 0.8636 - accuracy: 0.7019\n",
            "Accuracy on test set is 0.7018807530403137\n",
            "Error on test set is 0.8635839223861694\n"
          ],
          "name": "stdout"
        }
      ]
    },
    {
      "cell_type": "code",
      "metadata": {
        "colab": {
          "base_uri": "https://localhost:8080/",
          "height": 323
        },
        "id": "7q7ZJ7TuMdS8",
        "outputId": "b4b57597-16fc-44b8-ef14-8b69feb1721a"
      },
      "source": [
        "plot_history(history)"
      ],
      "execution_count": 25,
      "outputs": [
        {
          "output_type": "display_data",
          "data": {
            "image/png": "[encoded data removed]",
            "text/plain": [
              "<Figure size 432x288 with 2 Axes>"
            ]
          },
          "metadata": {
            "tags": [],
            "needs_background": "light"
          }
        }
      ]
    },
    {
      "cell_type": "code",
      "metadata": {
        "colab": {
          "base_uri": "https://localhost:8080/"
        },
        "id": "Rdo6jsCWK5hj",
        "outputId": "c19449ab-eeb1-4378-fd29-bf96b4db562e"
      },
      "source": [
        "#make predictions on a sample\n",
        "X = X_test[100]\n",
        "y = y_test[100]\n",
        "\n",
        "predict(X, y, model)"
      ],
      "execution_count": 29,
      "outputs": [
        {
          "output_type": "stream",
          "text": [
            "Expected  index: 6, predicted index: [6]\n"
          ],
          "name": "stdout"
        }
      ]
    }
  ]
}