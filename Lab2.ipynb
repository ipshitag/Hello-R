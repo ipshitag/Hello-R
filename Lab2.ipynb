{
 "cells": [
  {
   "cell_type": "markdown",
   "metadata": {},
   "source": [
    "# Lab 2\n",
    "\n",
    "## 23rd February 2021"
   ]
  },
  {
   "cell_type": "markdown",
   "metadata": {},
   "source": [
    "### Q1\n",
    "#### Create an array of dimension 5 x 4 x 3 using any two different ways. Comment the difference in the commands used."
   ]
  },
  {
   "cell_type": "code",
   "execution_count": 4,
   "metadata": {},
   "outputs": [
    {
     "name": "stdout",
     "output_type": "stream",
     "text": [
      ", , 1\n",
      "\n",
      "     [,1] [,2] [,3] [,4]\n",
      "[1,]    1    1    2    4\n",
      "[2,]    2    2    3    5\n",
      "[3,]    3    3    1    1\n",
      "[4,]    4    4    2    2\n",
      "[5,]    5    1    3    3\n",
      "\n",
      ", , 2\n",
      "\n",
      "     [,1] [,2] [,3] [,4]\n",
      "[1,]    4    2    2    3\n",
      "[2,]    1    3    3    1\n",
      "[3,]    2    4    4    2\n",
      "[4,]    3    5    1    3\n",
      "[5,]    1    1    2    4\n",
      "\n",
      ", , 3\n",
      "\n",
      "     [,1] [,2] [,3] [,4]\n",
      "[1,]    5    1    3    3\n",
      "[2,]    1    2    4    4\n",
      "[3,]    2    3    5    1\n",
      "[4,]    3    1    1    2\n",
      "[5,]    4    2    2    3\n",
      "\n"
     ]
    }
   ],
   "source": [
    "# method 1\n",
    "vector1 <- c(1,2,3,4,5)\n",
    "vector2 <- c(1,2,3,4)\n",
    "vector3 <- c(1,2,3)\n",
    "array1 <- array(c(vector1,vector2,vector3),dim = c(5,4,3))\n",
    "print(array1)"
   ]
  },
  {
   "cell_type": "code",
   "execution_count": 16,
   "metadata": {},
   "outputs": [
    {
     "name": "stdout",
     "output_type": "stream",
     "text": [
      ", , 1\n",
      "\n",
      "     [,1] [,2] [,3] [,4]\n",
      "[1,]    1    6   11   16\n",
      "[2,]    2    7   12   17\n",
      "[3,]    3    8   13   18\n",
      "[4,]    4    9   14   19\n",
      "[5,]    5   10   15   20\n",
      "\n",
      ", , 2\n",
      "\n",
      "     [,1] [,2] [,3] [,4]\n",
      "[1,]   21   26   31   36\n",
      "[2,]   22   27   32   37\n",
      "[3,]   23   28   33   38\n",
      "[4,]   24   29   34   39\n",
      "[5,]   25   30   35   40\n",
      "\n",
      ", , 3\n",
      "\n",
      "     [,1] [,2] [,3] [,4]\n",
      "[1,]   41   46   51   56\n",
      "[2,]   42   47   52   57\n",
      "[3,]   43   48   53   58\n",
      "[4,]   44   49   54   59\n",
      "[5,]   45   50   55   60\n",
      "\n"
     ]
    }
   ],
   "source": [
    "array2<-c(1:60)\n",
    "dim(array2)<-c(5,4,3)\n",
    "print(array2)"
   ]
  },
  {
   "cell_type": "markdown",
   "metadata": {},
   "source": [
    "### Difference:\n",
    "\n",
    "In the first part, ```array1 <- array(c(vector1,vector2,vector3),dim = c(5,4,3))``` , we are combining three vectors and giving dimensions, *at the time of the its creation*.\n",
    "\n",
    "Whereas in the second part, we first create a vector ```array2<-c(1:60)``` and explicitly change its dimension ```dim(array2)<-c(5,4,3)```, without using the ```array()``` function."
   ]
  },
  {
   "cell_type": "markdown",
   "metadata": {},
   "source": [
    "### Q2\n",
    "#### Create an array with 4 matrices of the dimension 6 x 6 using vector of any user defined sequence."
   ]
  },
  {
   "cell_type": "code",
   "execution_count": 56,
   "metadata": {},
   "outputs": [],
   "source": [
    "data <- c(1,2,3,4,5,6)\n",
    "m1 <- matrix(data, nrow=6, ncol=6, byrow=TRUE)\n",
    "\n",
    "data <- data+1\n",
    "m2 <- matrix(data, nrow=6, ncol=6, byrow=TRUE)\n",
    "\n",
    "data <- data+1\n",
    "m3 <- matrix(data, nrow=6, ncol=6, byrow=TRUE)\n",
    "\n",
    "data <- data+1\n",
    "m4 <- matrix(data, nrow=6, ncol=6, byrow=TRUE)\n",
    "\n",
    "array3 <- array(c(m1,m2,m3,m4),dim=c(4,6,6))"
   ]
  },
  {
   "cell_type": "code",
   "execution_count": 57,
   "metadata": {},
   "outputs": [
    {
     "name": "stdout",
     "output_type": "stream",
     "text": [
      ", , 1\n",
      "\n",
      "     [,1] [,2] [,3] [,4] [,5] [,6]\n",
      "[1,]    1    1    2    3    3    4\n",
      "[2,]    1    1    2    3    3    4\n",
      "[3,]    1    2    2    3    4    4\n",
      "[4,]    1    2    2    3    4    4\n",
      "\n",
      ", , 2\n",
      "\n",
      "     [,1] [,2] [,3] [,4] [,5] [,6]\n",
      "[1,]    5    5    6    2    2    3\n",
      "[2,]    5    5    6    2    2    3\n",
      "[3,]    5    6    6    2    3    3\n",
      "[4,]    5    6    6    2    3    3\n",
      "\n",
      ", , 3\n",
      "\n",
      "     [,1] [,2] [,3] [,4] [,5] [,6]\n",
      "[1,]    4    4    5    6    6    7\n",
      "[2,]    4    4    5    6    6    7\n",
      "[3,]    4    5    5    6    7    7\n",
      "[4,]    4    5    5    6    7    7\n",
      "\n",
      ", , 4\n",
      "\n",
      "     [,1] [,2] [,3] [,4] [,5] [,6]\n",
      "[1,]    3    3    4    5    5    6\n",
      "[2,]    3    3    4    5    5    6\n",
      "[3,]    3    4    4    5    6    6\n",
      "[4,]    3    4    4    5    6    6\n",
      "\n",
      ", , 5\n",
      "\n",
      "     [,1] [,2] [,3] [,4] [,5] [,6]\n",
      "[1,]    7    7    8    4    4    5\n",
      "[2,]    7    7    8    4    4    5\n",
      "[3,]    7    8    8    4    5    5\n",
      "[4,]    7    8    8    4    5    5\n",
      "\n",
      ", , 6\n",
      "\n",
      "     [,1] [,2] [,3] [,4] [,5] [,6]\n",
      "[1,]    6    6    7    8    8    9\n",
      "[2,]    6    6    7    8    8    9\n",
      "[3,]    6    7    7    8    9    9\n",
      "[4,]    6    7    7    8    9    9\n",
      "\n"
     ]
    }
   ],
   "source": [
    "print(array3)"
   ]
  },
  {
   "cell_type": "markdown",
   "metadata": {},
   "source": [
    "### Q3\n",
    "#### Convert 6 x 6 matrix into a one dimensional array."
   ]
  },
  {
   "cell_type": "code",
   "execution_count": 35,
   "metadata": {},
   "outputs": [],
   "source": [
    "array4 <- array(as.vector(m1)) #by columns\n",
    "array5 <- array(as.vector(t(m2)))#by rows"
   ]
  },
  {
   "cell_type": "code",
   "execution_count": 41,
   "metadata": {},
   "outputs": [
    {
     "name": "stdout",
     "output_type": "stream",
     "text": [
      "Class of array 4 ->  array\n",
      "Class of array 5 -> array"
     ]
    }
   ],
   "source": [
    "cat(\"Class of array 4 -> \",class(array4))\n",
    "cat(\"\\n\")\n",
    "cat(\"Class of array 5 ->\",class(array5))"
   ]
  },
  {
   "cell_type": "markdown",
   "metadata": {},
   "source": [
    "### Q4\n",
    "#### Write a R program to create an array of two 6 x 4 matrices each with 6 rows and 4 columns from two given vectors. Print the second row of the second matrix of the array and the element in the 3rd row and 3rd column of the 1st matrix."
   ]
  },
  {
   "cell_type": "code",
   "execution_count": 46,
   "metadata": {},
   "outputs": [],
   "source": [
    "#values\n",
    "data <- 1:24\n",
    "\n",
    "#names\n",
    "row_name <- c(\"row1\", \"row2\", \"row3\", \"row4\",\"row5\",\"row6\") \n",
    "col_name <- c(\"col1\", \"col2\", \"col3\", \"col4\") \n",
    "\n",
    "#putting together\n",
    "m <- matrix(data, nrow = 6, dimnames = list(row_name, col_name))\n",
    "data <- data*2\n",
    "n <- matrix(data, nrow = 6, dimnames = list(row_name, col_name))"
   ]
  },
  {
   "cell_type": "code",
   "execution_count": 58,
   "metadata": {},
   "outputs": [],
   "source": [
    "array6 <- array(c(m,n),dim<-c(4,6,2))"
   ]
  },
  {
   "cell_type": "code",
   "execution_count": 64,
   "metadata": {},
   "outputs": [
    {
     "name": "stdout",
     "output_type": "stream",
     "text": [
      "[1]  4 12 20 28 36 44\n"
     ]
    }
   ],
   "source": [
    "#second row of the second matrix \n",
    "print(array6[,,2][2,])"
   ]
  },
  {
   "cell_type": "code",
   "execution_count": 66,
   "metadata": {},
   "outputs": [
    {
     "name": "stdout",
     "output_type": "stream",
     "text": [
      "[1] 11\n"
     ]
    }
   ],
   "source": [
    "# element in the 3rd row and 3rd column of the 1st matrix\n",
    "print(array6[,,1][,3][3])"
   ]
  },
  {
   "cell_type": "markdown",
   "metadata": {},
   "source": [
    "### Q5"
   ]
  },
  {
   "cell_type": "markdown",
   "metadata": {},
   "source": [
    "###  a\n",
    "#### Create a matrix with dimension 7 x 7"
   ]
  },
  {
   "cell_type": "code",
   "execution_count": 71,
   "metadata": {},
   "outputs": [
    {
     "name": "stdout",
     "output_type": "stream",
     "text": [
      "     [,1] [,2] [,3] [,4] [,5] [,6] [,7]\n",
      "[1,]    1    8   15   22   29   36   43\n",
      "[2,]    2    9   16   23   30   37   44\n",
      "[3,]    3   10   17   24   31   38   45\n",
      "[4,]    4   11   18   25   32   39   46\n",
      "[5,]    5   12   19   26   33   40   47\n",
      "[6,]    6   13   20   27   34   41   48\n",
      "[7,]    7   14   21   28   35   42   49\n"
     ]
    }
   ],
   "source": [
    "data <- 1:49\n",
    "m <- matrix(data,nrow = 7)\n",
    "print(m)"
   ]
  },
  {
   "cell_type": "markdown",
   "metadata": {},
   "source": [
    "### b\n",
    "#### Replace the values of the $4^{th}$ column with mean of column value."
   ]
  },
  {
   "cell_type": "code",
   "execution_count": 74,
   "metadata": {},
   "outputs": [],
   "source": [
    "m[,4] <- mean(m[,4])"
   ]
  },
  {
   "cell_type": "code",
   "execution_count": 76,
   "metadata": {},
   "outputs": [
    {
     "name": "stdout",
     "output_type": "stream",
     "text": [
      "     [,1] [,2] [,3] [,4] [,5] [,6] [,7]\n",
      "[1,]    1    8   15   25   29   36   43\n",
      "[2,]    2    9   16   25   30   37   44\n",
      "[3,]    3   10   17   25   31   38   45\n",
      "[4,]    4   11   18   25   32   39   46\n",
      "[5,]    5   12   19   25   33   40   47\n",
      "[6,]    6   13   20   25   34   41   48\n",
      "[7,]    7   14   21   25   35   42   49\n"
     ]
    }
   ],
   "source": [
    "print(m)"
   ]
  },
  {
   "cell_type": "markdown",
   "metadata": {},
   "source": [
    "### c\n",
    "#### Name the rows with a prefix “rownum”"
   ]
  },
  {
   "cell_type": "code",
   "execution_count": 77,
   "metadata": {},
   "outputs": [],
   "source": [
    "rownames(m) <- c(\"rownum 1\",\"rownum 2\",\"rownum 3\",\"rownum 4\",\"rownum 5\",\"rownum 6\",\"rownum 7\")"
   ]
  },
  {
   "cell_type": "code",
   "execution_count": 78,
   "metadata": {},
   "outputs": [
    {
     "name": "stdout",
     "output_type": "stream",
     "text": [
      "         [,1] [,2] [,3] [,4] [,5] [,6] [,7]\n",
      "rownum 1    1    8   15   25   29   36   43\n",
      "rownum 2    2    9   16   25   30   37   44\n",
      "rownum 3    3   10   17   25   31   38   45\n",
      "rownum 4    4   11   18   25   32   39   46\n",
      "rownum 5    5   12   19   25   33   40   47\n",
      "rownum 6    6   13   20   25   34   41   48\n",
      "rownum 7    7   14   21   25   35   42   49\n"
     ]
    }
   ],
   "source": [
    "print(m)"
   ]
  },
  {
   "cell_type": "markdown",
   "metadata": {},
   "source": [
    "### d\n",
    "#### Use r command to name the columns with the vector sequence [level1, level2,level3……., level6, level7]"
   ]
  },
  {
   "cell_type": "code",
   "execution_count": 79,
   "metadata": {},
   "outputs": [],
   "source": [
    "colnames(m) <- c(\"level1\",\"level2\",\"level3\",\"level4\",\"level5\",\"level6\",\"level7\")"
   ]
  },
  {
   "cell_type": "code",
   "execution_count": 80,
   "metadata": {},
   "outputs": [
    {
     "name": "stdout",
     "output_type": "stream",
     "text": [
      "         level1 level2 level3 level4 level5 level6 level7\n",
      "rownum 1      1      8     15     25     29     36     43\n",
      "rownum 2      2      9     16     25     30     37     44\n",
      "rownum 3      3     10     17     25     31     38     45\n",
      "rownum 4      4     11     18     25     32     39     46\n",
      "rownum 5      5     12     19     25     33     40     47\n",
      "rownum 6      6     13     20     25     34     41     48\n",
      "rownum 7      7     14     21     25     35     42     49\n"
     ]
    }
   ],
   "source": [
    "print(m)"
   ]
  },
  {
   "cell_type": "markdown",
   "metadata": {},
   "source": [
    "### Q6\n",
    "#### You are an assistant officer in an ecommerce warehouse. Your duty includes managing the inventory, stocking the products and doing the survey for the products and keep the record of the same. Recently you have been asked to come up with a way to manage and calculate few basic operations on the records. You have a basic knowledge in r. You need to create a dataset using arrays and show few basic operations on the same to provide a summary."
   ]
  },
  {
   "cell_type": "markdown",
   "metadata": {},
   "source": [
    "### a\n",
    "#### Use poisson distribution to create a matrix of 100 elements for a 20 x 5 matrix with a mean of 48.5."
   ]
  },
  {
   "cell_type": "code",
   "execution_count": 145,
   "metadata": {},
   "outputs": [],
   "source": [
    "set.seed(42)\n",
    "n <- 1:100\n",
    "data <- rpois(n, lambda = 48.40)"
   ]
  },
  {
   "cell_type": "code",
   "execution_count": 146,
   "metadata": {},
   "outputs": [
    {
     "data": {
      "text/html": [
       "48.51"
      ],
      "text/latex": [
       "48.51"
      ],
      "text/markdown": [
       "48.51"
      ],
      "text/plain": [
       "[1] 48.51"
      ]
     },
     "metadata": {},
     "output_type": "display_data"
    }
   ],
   "source": [
    "mean(data)"
   ]
  },
  {
   "cell_type": "code",
   "execution_count": 147,
   "metadata": {},
   "outputs": [],
   "source": [
    "m <- matrix(data,nrow=20,ncol=5)"
   ]
  },
  {
   "cell_type": "code",
   "execution_count": 148,
   "metadata": {},
   "outputs": [
    {
     "name": "stdout",
     "output_type": "stream",
     "text": [
      "      [,1] [,2] [,3] [,4] [,5]\n",
      " [1,]   57   60   52   41   54\n",
      " [2,]   44   50   48   53   44\n",
      " [3,]   48   50   50   54   40\n",
      " [4,]   40   45   42   59   37\n",
      " [5,]   47   36   59   41   52\n",
      " [6,]   58   41   52   53   56\n",
      " [7,]   47   51   49   51   55\n",
      " [8,]   62   53   50   42   41\n",
      " [9,]   47   55   53   51   48\n",
      "[10,]   57   44   49   49   43\n",
      "[11,]   64   43   27   42   45\n",
      "[12,]   38   42   55   47   55\n",
      "[13,]   57   52   46   40   45\n",
      "[14,]   55   46   52   46   48\n",
      "[15,]   54   49   58   47   49\n",
      "[16,]   51   45   43   54   45\n",
      "[17,]   55   49   50   54   42\n",
      "[18,]   42   39   59   58   45\n",
      "[19,]   46   51   49   45   33\n",
      "[20,]   61   42   40   53   38\n"
     ]
    }
   ],
   "source": [
    "print(m)"
   ]
  },
  {
   "cell_type": "markdown",
   "metadata": {},
   "source": [
    "### b\n",
    "#### Use the column names as Week1, week2, week3, week4, week5."
   ]
  },
  {
   "cell_type": "code",
   "execution_count": 149,
   "metadata": {},
   "outputs": [],
   "source": [
    "colnames(m) <- c(\" Week1\", \"Week2\", \"Week3\", \"Week4\", \"Week5\")"
   ]
  },
  {
   "cell_type": "code",
   "execution_count": 150,
   "metadata": {},
   "outputs": [
    {
     "name": "stdout",
     "output_type": "stream",
     "text": [
      "       Week1 Week2 Week3 Week4 Week5\n",
      " [1,]     57    60    52    41    54\n",
      " [2,]     44    50    48    53    44\n",
      " [3,]     48    50    50    54    40\n",
      " [4,]     40    45    42    59    37\n",
      " [5,]     47    36    59    41    52\n",
      " [6,]     58    41    52    53    56\n",
      " [7,]     47    51    49    51    55\n",
      " [8,]     62    53    50    42    41\n",
      " [9,]     47    55    53    51    48\n",
      "[10,]     57    44    49    49    43\n",
      "[11,]     64    43    27    42    45\n",
      "[12,]     38    42    55    47    55\n",
      "[13,]     57    52    46    40    45\n",
      "[14,]     55    46    52    46    48\n",
      "[15,]     54    49    58    47    49\n",
      "[16,]     51    45    43    54    45\n",
      "[17,]     55    49    50    54    42\n",
      "[18,]     42    39    59    58    45\n",
      "[19,]     46    51    49    45    33\n",
      "[20,]     61    42    40    53    38\n"
     ]
    }
   ],
   "source": [
    "print(m)"
   ]
  },
  {
   "cell_type": "markdown",
   "metadata": {},
   "source": [
    "### c\n",
    "#### Use r operation to create a new row with the average value of each column."
   ]
  },
  {
   "cell_type": "code",
   "execution_count": 151,
   "metadata": {},
   "outputs": [],
   "source": [
    "mean_col <- c(mean(m[,1]),mean(m[,2]),mean(m[,3]),mean(m[,4]),mean(m[,5])) "
   ]
  },
  {
   "cell_type": "code",
   "execution_count": 152,
   "metadata": {},
   "outputs": [],
   "source": [
    "m <- rbind(m, mean_col) "
   ]
  },
  {
   "cell_type": "code",
   "execution_count": 153,
   "metadata": {},
   "outputs": [
    {
     "name": "stdout",
     "output_type": "stream",
     "text": [
      "          Week1 Week2 Week3 Week4 Week5\n",
      "           57.0 60.00 52.00    41 54.00\n",
      "           44.0 50.00 48.00    53 44.00\n",
      "           48.0 50.00 50.00    54 40.00\n",
      "           40.0 45.00 42.00    59 37.00\n",
      "           47.0 36.00 59.00    41 52.00\n",
      "           58.0 41.00 52.00    53 56.00\n",
      "           47.0 51.00 49.00    51 55.00\n",
      "           62.0 53.00 50.00    42 41.00\n",
      "           47.0 55.00 53.00    51 48.00\n",
      "           57.0 44.00 49.00    49 43.00\n",
      "           64.0 43.00 27.00    42 45.00\n",
      "           38.0 42.00 55.00    47 55.00\n",
      "           57.0 52.00 46.00    40 45.00\n",
      "           55.0 46.00 52.00    46 48.00\n",
      "           54.0 49.00 58.00    47 49.00\n",
      "           51.0 45.00 43.00    54 45.00\n",
      "           55.0 49.00 50.00    54 42.00\n",
      "           42.0 39.00 59.00    58 45.00\n",
      "           46.0 51.00 49.00    45 33.00\n",
      "           61.0 42.00 40.00    53 38.00\n",
      "mean_col   51.5 47.15 49.15    49 45.75\n"
     ]
    }
   ],
   "source": [
    "print(m)"
   ]
  },
  {
   "cell_type": "markdown",
   "metadata": {},
   "source": [
    "### d\n",
    "#### Use r operation to create a new column with the average value of each row."
   ]
  },
  {
   "cell_type": "code",
   "execution_count": 154,
   "metadata": {},
   "outputs": [
    {
     "name": "stderr",
     "output_type": "stream",
     "text": [
      "Warning message in cbind(m, vec):\n",
      "\"number of rows of result is not a multiple of vector length (arg 2)\""
     ]
    }
   ],
   "source": [
    "vec <- c()\n",
    "for(i in 1:20)\n",
    "{\n",
    "    vec <- append(vec,mean(m[i,]))\n",
    "}\n",
    "\n",
    "m <- cbind(m, vec) "
   ]
  },
  {
   "cell_type": "code",
   "execution_count": 155,
   "metadata": {},
   "outputs": [
    {
     "name": "stdout",
     "output_type": "stream",
     "text": [
      "          Week1 Week2 Week3 Week4 Week5  vec\n",
      "           57.0 60.00 52.00    41 54.00 52.8\n",
      "           44.0 50.00 48.00    53 44.00 47.8\n",
      "           48.0 50.00 50.00    54 40.00 48.4\n",
      "           40.0 45.00 42.00    59 37.00 44.6\n",
      "           47.0 36.00 59.00    41 52.00 47.0\n",
      "           58.0 41.00 52.00    53 56.00 52.0\n",
      "           47.0 51.00 49.00    51 55.00 50.6\n",
      "           62.0 53.00 50.00    42 41.00 49.6\n",
      "           47.0 55.00 53.00    51 48.00 50.8\n",
      "           57.0 44.00 49.00    49 43.00 48.4\n",
      "           64.0 43.00 27.00    42 45.00 44.2\n",
      "           38.0 42.00 55.00    47 55.00 47.4\n",
      "           57.0 52.00 46.00    40 45.00 48.0\n",
      "           55.0 46.00 52.00    46 48.00 49.4\n",
      "           54.0 49.00 58.00    47 49.00 51.4\n",
      "           51.0 45.00 43.00    54 45.00 47.6\n",
      "           55.0 49.00 50.00    54 42.00 50.0\n",
      "           42.0 39.00 59.00    58 45.00 48.6\n",
      "           46.0 51.00 49.00    45 33.00 44.8\n",
      "           61.0 42.00 40.00    53 38.00 46.8\n",
      "mean_col   51.5 47.15 49.15    49 45.75 52.8\n"
     ]
    }
   ],
   "source": [
    "print(m)"
   ]
  }
 ],
 "metadata": {
  "kernelspec": {
   "display_name": "R",
   "language": "R",
   "name": "ir"
  },
  "language_info": {
   "codemirror_mode": "r",
   "file_extension": ".r",
   "mimetype": "text/x-r-source",
   "name": "R",
   "pygments_lexer": "r",
   "version": "3.6.1"
  }
 },
 "nbformat": 4,
 "nbformat_minor": 2
}
